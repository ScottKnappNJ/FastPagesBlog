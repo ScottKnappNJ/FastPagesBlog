{
 "cells": [
  {
   "cell_type": "markdown",
   "metadata": {},
   "source": [
    "# Tuning Random Forest Models\n",
    "## Tidy Tuesday - IKEA prices"
   ]
  },
  {
   "cell_type": "markdown",
   "metadata": {},
   "source": [
    "On a weekly basis, a dataset is released for the R community to create visualizations and perform other analysis.  Julia Silge, of R-Studio, produces a periodic tutorial on the Tidymodels framework utilizing these datasets.  Here we will replicate her analysis in Python.\n",
    "\n",
    "This week we have a dataset from IKEA.  We will attempt to predict prices using a Random Forest model.  There is a relatively small dataset 3,694 items with 13 features. Of these 13 features many are just descriptive of the item (an index, item_id, name, web link, online availability, color_availablity, designer).  We have identified 4 variables which may offer some predictive capacity, 3 numeric (depth, height, weight) and 1 categorical (category).  We will do some feature engineering with these variables, including imputation using K-Nearest-Neighbors (KNN), and One-Hot encoding.\n",
    "\n",
    "Let's begin."
   ]
  },
  {
   "cell_type": "markdown",
   "metadata": {},
   "source": [
    "## Setup and Data Import"
   ]
  },
  {
   "cell_type": "code",
   "execution_count": 197,
   "metadata": {},
   "outputs": [
    {
     "name": "stdout",
     "output_type": "stream",
     "text": [
      "Setup Complete\n"
     ]
    }
   ],
   "source": [
    "import numpy as np\n",
    "import pandas as pd\n",
    "import matplotlib.pyplot as plt\n",
    "import seaborn as sns\n",
    "\n",
    "from sklearn.model_selection import train_test_split\n",
    "from sklearn.impute import KNNImputer\n",
    "from sklearn.preprocessing import OneHotEncoder\n",
    "\n",
    "from sklearn.ensemble import RandomForestRegressor\n",
    "from sklearn.metrics import mean_absolute_error\n",
    "\n",
    "from sklearn.model_selection import RandomizedSearchCV\n",
    "from sklearn.model_selection import GridSearchCV\n",
    "\n",
    "%matplotlib inline\n",
    "print(\"Setup Complete\")"
   ]
  },
  {
   "cell_type": "markdown",
   "metadata": {},
   "source": [
    "We will import the data from the website provided and then perform for data cleaning and exploratory data anaylsis.\n",
    "\n",
    "* It is usually a good idea to inspeact the head and tail of the dataset to for a first check that the import was successful.\n",
    "* We will drop the `Unnamed: 0` column, as it appears to just be an index.\n",
    "\n",
    "One thing that you will notice throughout is the constant use a `.shape`.  This is used as a quick check to ensure that we are at least returning a shape that's expected."
   ]
  },
  {
   "cell_type": "code",
   "execution_count": 139,
   "metadata": {},
   "outputs": [
    {
     "data": {
      "text/html": [
       "<div>\n",
       "<style scoped>\n",
       "    .dataframe tbody tr th:only-of-type {\n",
       "        vertical-align: middle;\n",
       "    }\n",
       "\n",
       "    .dataframe tbody tr th {\n",
       "        vertical-align: top;\n",
       "    }\n",
       "\n",
       "    .dataframe thead th {\n",
       "        text-align: right;\n",
       "    }\n",
       "</style>\n",
       "<table border=\"1\" class=\"dataframe\">\n",
       "  <thead>\n",
       "    <tr style=\"text-align: right;\">\n",
       "      <th></th>\n",
       "      <th>Unnamed: 0</th>\n",
       "      <th>item_id</th>\n",
       "      <th>name</th>\n",
       "      <th>category</th>\n",
       "      <th>price</th>\n",
       "      <th>old_price</th>\n",
       "      <th>sellable_online</th>\n",
       "      <th>link</th>\n",
       "      <th>other_colors</th>\n",
       "      <th>short_description</th>\n",
       "      <th>designer</th>\n",
       "      <th>depth</th>\n",
       "      <th>height</th>\n",
       "      <th>width</th>\n",
       "    </tr>\n",
       "  </thead>\n",
       "  <tbody>\n",
       "    <tr>\n",
       "      <th>0</th>\n",
       "      <td>0</td>\n",
       "      <td>90420332</td>\n",
       "      <td>FREKVENS</td>\n",
       "      <td>Bar furniture</td>\n",
       "      <td>265.0</td>\n",
       "      <td>No old price</td>\n",
       "      <td>True</td>\n",
       "      <td>https://www.ikea.com/sa/en/p/frekvens-bar-tabl...</td>\n",
       "      <td>No</td>\n",
       "      <td>Bar table, in/outdoor,          51x51 cm</td>\n",
       "      <td>Nicholai Wiig Hansen</td>\n",
       "      <td>NaN</td>\n",
       "      <td>99.0</td>\n",
       "      <td>51.0</td>\n",
       "    </tr>\n",
       "    <tr>\n",
       "      <th>1</th>\n",
       "      <td>1</td>\n",
       "      <td>368814</td>\n",
       "      <td>NORDVIKEN</td>\n",
       "      <td>Bar furniture</td>\n",
       "      <td>995.0</td>\n",
       "      <td>No old price</td>\n",
       "      <td>False</td>\n",
       "      <td>https://www.ikea.com/sa/en/p/nordviken-bar-tab...</td>\n",
       "      <td>No</td>\n",
       "      <td>Bar table,          140x80 cm</td>\n",
       "      <td>Francis Cayouette</td>\n",
       "      <td>NaN</td>\n",
       "      <td>105.0</td>\n",
       "      <td>80.0</td>\n",
       "    </tr>\n",
       "    <tr>\n",
       "      <th>2</th>\n",
       "      <td>2</td>\n",
       "      <td>9333523</td>\n",
       "      <td>NORDVIKEN / NORDVIKEN</td>\n",
       "      <td>Bar furniture</td>\n",
       "      <td>2095.0</td>\n",
       "      <td>No old price</td>\n",
       "      <td>False</td>\n",
       "      <td>https://www.ikea.com/sa/en/p/nordviken-nordvik...</td>\n",
       "      <td>No</td>\n",
       "      <td>Bar table and 4 bar stools</td>\n",
       "      <td>Francis Cayouette</td>\n",
       "      <td>NaN</td>\n",
       "      <td>NaN</td>\n",
       "      <td>NaN</td>\n",
       "    </tr>\n",
       "    <tr>\n",
       "      <th>3</th>\n",
       "      <td>3</td>\n",
       "      <td>80155205</td>\n",
       "      <td>STIG</td>\n",
       "      <td>Bar furniture</td>\n",
       "      <td>69.0</td>\n",
       "      <td>No old price</td>\n",
       "      <td>True</td>\n",
       "      <td>https://www.ikea.com/sa/en/p/stig-bar-stool-wi...</td>\n",
       "      <td>Yes</td>\n",
       "      <td>Bar stool with backrest,          74 cm</td>\n",
       "      <td>Henrik Preutz</td>\n",
       "      <td>50.0</td>\n",
       "      <td>100.0</td>\n",
       "      <td>60.0</td>\n",
       "    </tr>\n",
       "    <tr>\n",
       "      <th>4</th>\n",
       "      <td>4</td>\n",
       "      <td>30180504</td>\n",
       "      <td>NORBERG</td>\n",
       "      <td>Bar furniture</td>\n",
       "      <td>225.0</td>\n",
       "      <td>No old price</td>\n",
       "      <td>True</td>\n",
       "      <td>https://www.ikea.com/sa/en/p/norberg-wall-moun...</td>\n",
       "      <td>No</td>\n",
       "      <td>Wall-mounted drop-leaf table,         ...</td>\n",
       "      <td>Marcus Arvonen</td>\n",
       "      <td>60.0</td>\n",
       "      <td>43.0</td>\n",
       "      <td>74.0</td>\n",
       "    </tr>\n",
       "  </tbody>\n",
       "</table>\n",
       "</div>"
      ],
      "text/plain": [
       "   Unnamed: 0   item_id                   name       category   price  \\\n",
       "0           0  90420332               FREKVENS  Bar furniture   265.0   \n",
       "1           1    368814              NORDVIKEN  Bar furniture   995.0   \n",
       "2           2   9333523  NORDVIKEN / NORDVIKEN  Bar furniture  2095.0   \n",
       "3           3  80155205                   STIG  Bar furniture    69.0   \n",
       "4           4  30180504                NORBERG  Bar furniture   225.0   \n",
       "\n",
       "      old_price  sellable_online  \\\n",
       "0  No old price             True   \n",
       "1  No old price            False   \n",
       "2  No old price            False   \n",
       "3  No old price             True   \n",
       "4  No old price             True   \n",
       "\n",
       "                                                link other_colors  \\\n",
       "0  https://www.ikea.com/sa/en/p/frekvens-bar-tabl...           No   \n",
       "1  https://www.ikea.com/sa/en/p/nordviken-bar-tab...           No   \n",
       "2  https://www.ikea.com/sa/en/p/nordviken-nordvik...           No   \n",
       "3  https://www.ikea.com/sa/en/p/stig-bar-stool-wi...          Yes   \n",
       "4  https://www.ikea.com/sa/en/p/norberg-wall-moun...           No   \n",
       "\n",
       "                                   short_description              designer  \\\n",
       "0           Bar table, in/outdoor,          51x51 cm  Nicholai Wiig Hansen   \n",
       "1                      Bar table,          140x80 cm     Francis Cayouette   \n",
       "2                         Bar table and 4 bar stools     Francis Cayouette   \n",
       "3            Bar stool with backrest,          74 cm         Henrik Preutz   \n",
       "4          Wall-mounted drop-leaf table,         ...        Marcus Arvonen   \n",
       "\n",
       "   depth  height  width  \n",
       "0    NaN    99.0   51.0  \n",
       "1    NaN   105.0   80.0  \n",
       "2    NaN     NaN    NaN  \n",
       "3   50.0   100.0   60.0  \n",
       "4   60.0    43.0   74.0  "
      ]
     },
     "execution_count": 139,
     "metadata": {},
     "output_type": "execute_result"
    }
   ],
   "source": [
    "ikea_raw = pd.read_csv(\"https://raw.githubusercontent.com/rfordatascience/tidytuesday/master/data/2020/2020-11-03/ikea.csv\")\n",
    "\n",
    "ikea_raw.head()"
   ]
  },
  {
   "cell_type": "code",
   "execution_count": 209,
   "metadata": {},
   "outputs": [
    {
     "data": {
      "text/html": [
       "<div>\n",
       "<style scoped>\n",
       "    .dataframe tbody tr th:only-of-type {\n",
       "        vertical-align: middle;\n",
       "    }\n",
       "\n",
       "    .dataframe tbody tr th {\n",
       "        vertical-align: top;\n",
       "    }\n",
       "\n",
       "    .dataframe thead th {\n",
       "        text-align: right;\n",
       "    }\n",
       "</style>\n",
       "<table border=\"1\" class=\"dataframe\">\n",
       "  <thead>\n",
       "    <tr style=\"text-align: right;\">\n",
       "      <th></th>\n",
       "      <th>Unnamed: 0</th>\n",
       "      <th>item_id</th>\n",
       "      <th>name</th>\n",
       "      <th>category</th>\n",
       "      <th>price</th>\n",
       "      <th>old_price</th>\n",
       "      <th>sellable_online</th>\n",
       "      <th>link</th>\n",
       "      <th>other_colors</th>\n",
       "      <th>short_description</th>\n",
       "      <th>designer</th>\n",
       "      <th>depth</th>\n",
       "      <th>height</th>\n",
       "      <th>width</th>\n",
       "    </tr>\n",
       "  </thead>\n",
       "  <tbody>\n",
       "    <tr>\n",
       "      <th>3689</th>\n",
       "      <td>3689</td>\n",
       "      <td>99157902</td>\n",
       "      <td>ELVARLI</td>\n",
       "      <td>Wardrobes</td>\n",
       "      <td>750.0</td>\n",
       "      <td>SR 820</td>\n",
       "      <td>True</td>\n",
       "      <td>https://www.ikea.com/sa/en/p/elvarli-1-section...</td>\n",
       "      <td>No</td>\n",
       "      <td>1 section,          92x51x222-350 cm</td>\n",
       "      <td>Ehlén Johansson</td>\n",
       "      <td>50.0</td>\n",
       "      <td>NaN</td>\n",
       "      <td>91.0</td>\n",
       "    </tr>\n",
       "    <tr>\n",
       "      <th>3690</th>\n",
       "      <td>3690</td>\n",
       "      <td>9158152</td>\n",
       "      <td>ELVARLI</td>\n",
       "      <td>Wardrobes</td>\n",
       "      <td>1572.0</td>\n",
       "      <td>SR 1,755</td>\n",
       "      <td>True</td>\n",
       "      <td>https://www.ikea.com/sa/en/p/elvarli-2-section...</td>\n",
       "      <td>No</td>\n",
       "      <td>2 sections,          135x51x222-350 cm</td>\n",
       "      <td>Ehlén Johansson</td>\n",
       "      <td>50.0</td>\n",
       "      <td>NaN</td>\n",
       "      <td>135.0</td>\n",
       "    </tr>\n",
       "    <tr>\n",
       "      <th>3691</th>\n",
       "      <td>3691</td>\n",
       "      <td>59157541</td>\n",
       "      <td>ELVARLI</td>\n",
       "      <td>Wardrobes</td>\n",
       "      <td>924.0</td>\n",
       "      <td>SR 1,050</td>\n",
       "      <td>True</td>\n",
       "      <td>https://www.ikea.com/sa/en/p/elvarli-2-section...</td>\n",
       "      <td>No</td>\n",
       "      <td>2 sections,          175x51x222-350 cm</td>\n",
       "      <td>Ehlén Johansson</td>\n",
       "      <td>50.0</td>\n",
       "      <td>NaN</td>\n",
       "      <td>175.0</td>\n",
       "    </tr>\n",
       "    <tr>\n",
       "      <th>3692</th>\n",
       "      <td>3692</td>\n",
       "      <td>89157573</td>\n",
       "      <td>ELVARLI</td>\n",
       "      <td>Wardrobes</td>\n",
       "      <td>2745.0</td>\n",
       "      <td>SR 3,130</td>\n",
       "      <td>True</td>\n",
       "      <td>https://www.ikea.com/sa/en/p/elvarli-3-section...</td>\n",
       "      <td>No</td>\n",
       "      <td>3 sections,          178x51x222-350 cm</td>\n",
       "      <td>Ehlén Johansson</td>\n",
       "      <td>50.0</td>\n",
       "      <td>NaN</td>\n",
       "      <td>178.0</td>\n",
       "    </tr>\n",
       "    <tr>\n",
       "      <th>3693</th>\n",
       "      <td>3693</td>\n",
       "      <td>69157376</td>\n",
       "      <td>ELVARLI</td>\n",
       "      <td>Wardrobes</td>\n",
       "      <td>1231.0</td>\n",
       "      <td>SR 1,535</td>\n",
       "      <td>True</td>\n",
       "      <td>https://www.ikea.com/sa/en/p/elvarli-2-section...</td>\n",
       "      <td>No</td>\n",
       "      <td>2 sections,          175x51x222-350 cm</td>\n",
       "      <td>Ehlén Johansson</td>\n",
       "      <td>50.0</td>\n",
       "      <td>NaN</td>\n",
       "      <td>175.0</td>\n",
       "    </tr>\n",
       "  </tbody>\n",
       "</table>\n",
       "</div>"
      ],
      "text/plain": [
       "      Unnamed: 0   item_id     name   category   price old_price  \\\n",
       "3689        3689  99157902  ELVARLI  Wardrobes   750.0    SR 820   \n",
       "3690        3690   9158152  ELVARLI  Wardrobes  1572.0  SR 1,755   \n",
       "3691        3691  59157541  ELVARLI  Wardrobes   924.0  SR 1,050   \n",
       "3692        3692  89157573  ELVARLI  Wardrobes  2745.0  SR 3,130   \n",
       "3693        3693  69157376  ELVARLI  Wardrobes  1231.0  SR 1,535   \n",
       "\n",
       "      sellable_online                                               link  \\\n",
       "3689             True  https://www.ikea.com/sa/en/p/elvarli-1-section...   \n",
       "3690             True  https://www.ikea.com/sa/en/p/elvarli-2-section...   \n",
       "3691             True  https://www.ikea.com/sa/en/p/elvarli-2-section...   \n",
       "3692             True  https://www.ikea.com/sa/en/p/elvarli-3-section...   \n",
       "3693             True  https://www.ikea.com/sa/en/p/elvarli-2-section...   \n",
       "\n",
       "     other_colors                               short_description  \\\n",
       "3689           No            1 section,          92x51x222-350 cm   \n",
       "3690           No          2 sections,          135x51x222-350 cm   \n",
       "3691           No          2 sections,          175x51x222-350 cm   \n",
       "3692           No          3 sections,          178x51x222-350 cm   \n",
       "3693           No          2 sections,          175x51x222-350 cm   \n",
       "\n",
       "             designer  depth  height  width  \n",
       "3689  Ehlén Johansson   50.0     NaN   91.0  \n",
       "3690  Ehlén Johansson   50.0     NaN  135.0  \n",
       "3691  Ehlén Johansson   50.0     NaN  175.0  \n",
       "3692  Ehlén Johansson   50.0     NaN  178.0  \n",
       "3693  Ehlén Johansson   50.0     NaN  175.0  "
      ]
     },
     "execution_count": 209,
     "metadata": {},
     "output_type": "execute_result"
    }
   ],
   "source": [
    "ikea_raw.tail()"
   ]
  },
  {
   "cell_type": "code",
   "execution_count": 140,
   "metadata": {},
   "outputs": [],
   "source": [
    "# drop this column which seems like an index\n",
    "ikea = ikea_raw.drop(\"Unnamed: 0\", axis=1)"
   ]
  },
  {
   "cell_type": "code",
   "execution_count": 141,
   "metadata": {},
   "outputs": [
    {
     "data": {
      "text/plain": [
       "(3694, 13)"
      ]
     },
     "execution_count": 141,
     "metadata": {},
     "output_type": "execute_result"
    }
   ],
   "source": [
    "ikea.shape"
   ]
  },
  {
   "cell_type": "markdown",
   "metadata": {},
   "source": [
    "After this initial cursory look at the data.  We next look to identify the completeness of our data.  We see that we have quite of few NAs, from both a table perspective and using a heatmap to see the distribution of the NAs.  Visually, it looks like we may be able to preserve some of the incomplete observations by imputing the missing values. This is beacuse the missing data is all in the dimensions of the product.  If an item is only missing a single dimension, we can attempt to impute the missing value given the other 2 dimenstions using KNN, this will be discusseed in more depth later on.  Unfortunately, we will have to drop those items which are missing 2 or more dimensions."
   ]
  },
  {
   "cell_type": "code",
   "execution_count": 142,
   "metadata": {},
   "outputs": [
    {
     "data": {
      "text/plain": [
       "item_id                 0\n",
       "name                    0\n",
       "category                0\n",
       "price                   0\n",
       "old_price               0\n",
       "sellable_online         0\n",
       "link                    0\n",
       "other_colors            0\n",
       "short_description       0\n",
       "designer                0\n",
       "depth                1463\n",
       "height                988\n",
       "width                 589\n",
       "dtype: int64"
      ]
     },
     "execution_count": 142,
     "metadata": {},
     "output_type": "execute_result"
    }
   ],
   "source": [
    "# check NAs per column\n",
    "ikea.isna().sum()"
   ]
  },
  {
   "cell_type": "code",
   "execution_count": 214,
   "metadata": {},
   "outputs": [
    {
     "data": {
      "image/png": "[encoded data removed]",
      "text/plain": [
       "<Figure size 720x720 with 2 Axes>"
      ]
     },
     "metadata": {
      "needs_background": "light"
     },
     "output_type": "display_data"
    }
   ],
   "source": [
    "# visual represenation of the NAs in the dataset\n",
    "plt.figure(figsize=(10, 10))\n",
    "sns.heatmap(ikea.isna());"
   ]
  },
  {
   "cell_type": "code",
   "execution_count": 143,
   "metadata": {},
   "outputs": [
    {
     "data": {
      "text/plain": [
       "item_id                0\n",
       "name                   0\n",
       "category               0\n",
       "price                  0\n",
       "old_price              0\n",
       "sellable_online        0\n",
       "link                   0\n",
       "other_colors           0\n",
       "short_description      0\n",
       "designer               0\n",
       "depth                692\n",
       "height               251\n",
       "width                 24\n",
       "dtype: int64"
      ]
     },
     "execution_count": 143,
     "metadata": {},
     "output_type": "execute_result"
    }
   ],
   "source": [
    "# quickly check how many items we may be able to preseve if we attempt to impute a single missing dimension and drop those with more than two missing.\n",
    "drop_index = ikea.isna().sum(axis=1) > 1\n",
    "ikea.drop(ikea[drop_index].index).isna().sum()"
   ]
  },
  {
   "cell_type": "code",
   "execution_count": 144,
   "metadata": {},
   "outputs": [],
   "source": [
    "# drop rows with 2 or more missing values\n",
    "ikea.drop(ikea[drop_index].index, inplace=True)"
   ]
  },
  {
   "cell_type": "markdown",
   "metadata": {},
   "source": [
    "## Data Visualizations\n",
    "\n",
    "Next, we will quickly tale a look at our features as compared to our target variable.  When we look at the `price` variable, we see that it ranges from a minimum of 5 to a maximum of 9585.  To contend with this large range, we will do a log-transformation on the `price`.  We will quickly chart the target vs each or the dimensions and against the various categories.\n",
    "\n",
    "For the `categpry` feature, we see that we have 17 different categories, likely too many for our model given the small number of observations, we will take the 11 largest categories and combine the remaining categories into one called `other`.  \n",
    "\n",
    "From all these visuals, there does not appear to be great predictive value in any one feature, so we must temper our expectations of our model predictions."
   ]
  },
  {
   "cell_type": "code",
   "execution_count": 218,
   "metadata": {},
   "outputs": [
    {
     "data": {
      "text/plain": [
       "count    2866.000000\n",
       "mean     1113.905652\n",
       "std      1401.535864\n",
       "min         5.000000\n",
       "25%       220.000000\n",
       "50%       585.000000\n",
       "75%      1468.000000\n",
       "max      9585.000000\n",
       "Name: price, dtype: float64"
      ]
     },
     "execution_count": 218,
     "metadata": {},
     "output_type": "execute_result"
    }
   ],
   "source": [
    "# quick summary statistics of our target variable\n",
    "ikea['price'].describe()"
   ]
  },
  {
   "cell_type": "code",
   "execution_count": 145,
   "metadata": {},
   "outputs": [],
   "source": [
    "# log-transformation of our target variable\n",
    "ikea[\"price_log\"] = np.log(ikea[\"price\"])"
   ]
  },
  {
   "cell_type": "code",
   "execution_count": 146,
   "metadata": {},
   "outputs": [
    {
     "data": {
      "image/png": "[encoded data removed]",
      "text/plain": [
       "<Figure size 1080x504 with 3 Axes>"
      ]
     },
     "metadata": {
      "needs_background": "light"
     },
     "output_type": "display_data"
    }
   ],
   "source": [
    "# visual the relationship between our numeric predictors vs our target\n",
    "fig, (ax1, ax2, ax3) = plt.subplots(1, 3, figsize = (15, 7))\n",
    "ax1.scatter(\"depth\", \"price_log\", data=ikea, color = \"red\")\n",
    "ax1.set_xlabel(\"Depth\")\n",
    "\n",
    "ax2.scatter(\"height\", \"price_log\", data=ikea, color = \"green\")\n",
    "ax2.set_xlabel(\"Height\")\n",
    "\n",
    "ax3.scatter(\"width\", \"price_log\", data=ikea, color = \"blue\")\n",
    "ax3.set_xlabel(\"Width\");"
   ]
  },
  {
   "cell_type": "code",
   "execution_count": 147,
   "metadata": {},
   "outputs": [
    {
     "data": {
      "text/plain": [
       "Bookcases & shelving units              493\n",
       "Tables & desks                          390\n",
       "Chairs                                  334\n",
       "Sofas & armchairs                       271\n",
       "Cabinets & cupboards                    254\n",
       "Wardrobes                               233\n",
       "TV & media furniture                    152\n",
       "Beds                                    150\n",
       "Outdoor furniture                       148\n",
       "Chests of drawers & drawer units        123\n",
       "Children's furniture                    111\n",
       "Nursery furniture                        87\n",
       "Bar furniture                            37\n",
       "Trolleys                                 27\n",
       "Sideboards, buffets & console tables     23\n",
       "Café furniture                           21\n",
       "Room dividers                            12\n",
       "Name: category, dtype: int64"
      ]
     },
     "execution_count": 147,
     "metadata": {},
     "output_type": "execute_result"
    }
   ],
   "source": [
    "# observations in each of our categorical variable\n",
    "ikea[\"category\"].value_counts()"
   ]
  },
  {
   "cell_type": "code",
   "execution_count": 148,
   "metadata": {},
   "outputs": [
    {
     "data": {
      "text/plain": [
       "Bookcases & shelving units          493\n",
       "Tables & desks                      390\n",
       "Chairs                              334\n",
       "Sofas & armchairs                   271\n",
       "Cabinets & cupboards                254\n",
       "Wardrobes                           233\n",
       "Other                               207\n",
       "TV & media furniture                152\n",
       "Beds                                150\n",
       "Outdoor furniture                   148\n",
       "Chests of drawers & drawer units    123\n",
       "Children's furniture                111\n",
       "Name: category, dtype: int64"
      ]
     },
     "execution_count": 148,
     "metadata": {},
     "output_type": "execute_result"
    }
   ],
   "source": [
    "# reduce the categories to only 10, with at least 111 items in each category\n",
    "top_11_cats = ikea[\"category\"].value_counts().head(11).index\n",
    "ikea[\"category\"] = ikea[\"category\"].apply(lambda cat: \"Other\" if cat not in top_11_cats else cat)\n",
    "ikea[\"category\"].value_counts()"
   ]
  },
  {
   "cell_type": "code",
   "execution_count": 149,
   "metadata": {},
   "outputs": [
    {
     "data": {
      "image/png": "[encoded data removed]",
      "text/plain": [
       "<Figure size 1080x504 with 1 Axes>"
      ]
     },
     "metadata": {
      "needs_background": "light"
     },
     "output_type": "display_data"
    }
   ],
   "source": [
    "# visualize how our target variable varies among the categories\n",
    "plt.figure(figsize=(15, 7))\n",
    "plt.xticks(rotation=90)\n",
    "plt.bar(\"category\", \"price_log\", data=ikea);"
   ]
  },
  {
   "cell_type": "markdown",
   "metadata": {},
   "source": [
    "## Data Preparation\n",
    "\n",
    "We have done some feature engineering above.  But we will need to category to ensure that our data is prepared to be entered into a model.  \n",
    "\n",
    "First, we will subset our dataset into the X (predictors or features) and y (target).  We will then create a training set, in which we will use to fit the model, and a test set, over which we will evaluate the model.\n",
    "\n",
    "**Numerical variables**  \n",
    "For the numerical variables, we still need to replace our missing values.  As mentioned we will use the KNN model to impute the missing values from the known dimensions.  In the KNN algorithm, we will use 3 nearest neighbors, meaning that we will find the 3 closest obeservations to determine the missing value.  The closest observations will be found by calculating the eclidian distance between each observation and then simply using the 3 closest to imput the missing value.\n",
    "*Note: When performing the transformation, we fit and transform the training set, but then simply use that fit to only transform the test set.*\n",
    "\n",
    "**Categorical variables**\n",
    "For the categorical variables, we will use One-Hot Encoding to convert the categories into numeric values.  In One-Hot Encoding, we simply create a dummy feature for each category with a value of 1 or 0 for each variable depending if the category pertains to that observation or not.  \n",
    "\n",
    "Lastly, we concatenate the numeric and categorical feature back into a single DataFrame ready for modeling."
   ]
  },
  {
   "cell_type": "code",
   "execution_count": 153,
   "metadata": {},
   "outputs": [
    {
     "data": {
      "text/plain": [
       "((2866, 4), (2866,))"
      ]
     },
     "execution_count": 153,
     "metadata": {},
     "output_type": "execute_result"
    }
   ],
   "source": [
    "# create our X and Y variables\n",
    "X = ikea[['category', 'depth', 'height', 'width']]\n",
    "y = ikea['price_log']\n",
    "\n",
    "X.shape, y.shape"
   ]
  },
  {
   "cell_type": "code",
   "execution_count": 155,
   "metadata": {},
   "outputs": [
    {
     "data": {
      "text/plain": [
       "((2149, 4), (717, 4), (2149,), (717,))"
      ]
     },
     "execution_count": 155,
     "metadata": {},
     "output_type": "execute_result"
    }
   ],
   "source": [
    "# create our train and set datasets\n",
    "X_train, X_test, y_train, y_test = train_test_split(X, y, test_size=0.25, random_state=42)\n",
    "\n",
    "X_train.shape, X_test.shape, y_train.shape, y_test.shape"
   ]
  },
  {
   "cell_type": "code",
   "execution_count": 219,
   "metadata": {},
   "outputs": [
    {
     "data": {
      "text/plain": [
       "((2149, 3), (717, 3))"
      ]
     },
     "execution_count": 219,
     "metadata": {},
     "output_type": "execute_result"
    }
   ],
   "source": [
    "# subset our numeric features for both test and train\n",
    "num_cats = ['depth', 'height', 'width']\n",
    "X_train_num = X_train[num_cats]\n",
    "X_test_num = X_test[num_cats]\n",
    "\n",
    "# perform the imputation using KNN, with 3 neighbors (copy=False allows for in-place transformations)\n",
    "imputer = KNNImputer(n_neighbors=3, copy=False)\n",
    "imputer.fit_transform(X_train_num)\n",
    "imputer.transform(X_test_num)               \n",
    "\n",
    "X_train_num.shape, X_test_num.shape"
   ]
  },
  {
   "cell_type": "code",
   "execution_count": 169,
   "metadata": {},
   "outputs": [
    {
     "data": {
      "text/plain": [
       "(depth     0\n",
       " height    0\n",
       " width     0\n",
       " dtype: int64,\n",
       " depth     0\n",
       " height    0\n",
       " width     0\n",
       " dtype: int64)"
      ]
     },
     "execution_count": 169,
     "metadata": {},
     "output_type": "execute_result"
    }
   ],
   "source": [
    "# confirm the NAs have been replaced\n",
    "X_train_num.isnull().sum(), X_test_num.isnull().sum()"
   ]
  },
  {
   "cell_type": "code",
   "execution_count": 176,
   "metadata": {},
   "outputs": [
    {
     "data": {
      "text/plain": [
       "((2149, 12), (717, 12))"
      ]
     },
     "execution_count": 176,
     "metadata": {},
     "output_type": "execute_result"
    }
   ],
   "source": [
    "# perform the One-Hot encoding for the categorical feature\n",
    "One_Hot = OneHotEncoder(handle_unknown='ignore', sparse=False)\n",
    "\n",
    "X_train_cat = X_train[['category']]\n",
    "X_test_cat = X_test[['category']]\n",
    "\n",
    "X_train_cat = pd.DataFrame(One_Hot.fit_transform(X_train_cat))\n",
    "X_test_cat = pd.DataFrame(One_Hot.transform(X_test_cat))\n",
    "\n",
    "# One-Hot Encoding drops the index, so we need to replace it\n",
    "X_train_cat.index = X_train.index\n",
    "X_test_cat.index = X_test.index\n",
    "\n",
    "X_train_cat.shape, X_test_cat.shape"
   ]
  },
  {
   "cell_type": "code",
   "execution_count": 181,
   "metadata": {},
   "outputs": [
    {
     "data": {
      "text/plain": [
       "((2149, 15), (717, 15))"
      ]
     },
     "execution_count": 181,
     "metadata": {},
     "output_type": "execute_result"
    }
   ],
   "source": [
    "# recombine the transformed datasets for modeling\n",
    "X_train_trans = pd.concat([X_train_num, X_train_cat], axis=1)\n",
    "X_test_trans = pd.concat([X_test_num, X_test_cat], axis=1)\n",
    "\n",
    "X_train_trans.shape, X_test_trans.shape"
   ]
  },
  {
   "cell_type": "markdown",
   "metadata": {},
   "source": [
    "## Train the Model\n",
    "\n",
    "Now, that our data has been transformed for modeling, we can run our initial base model.  Here we will use n_estimators of 200 (we will discuss this in the tuning section).  We will then use that fitted model to make predictions on our test data.  Those predictions will allow us to evaluate our model.  We will use a simple Mean Absolute Error for evaluation.  We must remember to transform our predictions back so that the MAE makes more intuitive sense.\n",
    "\n",
    "We didn't have high expectations for the model, and a MAE of 396 or 35% isn't very impressive.  Next, we will see if we tuning the model improves our predictive capacity."
   ]
  },
  {
   "cell_type": "code",
   "execution_count": 188,
   "metadata": {},
   "outputs": [
    {
     "data": {
      "text/plain": [
       "0.4496975465145763"
      ]
     },
     "execution_count": 188,
     "metadata": {},
     "output_type": "execute_result"
    }
   ],
   "source": [
    "# Instatiate the model, fit the model to the training data, predict on the test, and evaluate the results\n",
    "rf_model = RandomForestRegressor(n_estimators=200, random_state=42)\n",
    "\n",
    "rf_model.fit(X_train_trans, y_train)\n",
    "preds = rf_model.predict(X_test_trans)\n",
    "\n",
    "mean_absolute_error(y_test, preds)"
   ]
  },
  {
   "cell_type": "code",
   "execution_count": 196,
   "metadata": {},
   "outputs": [
    {
     "data": {
      "text/plain": [
       "(396.9394406603129, 1113.90565247732)"
      ]
     },
     "execution_count": 196,
     "metadata": {},
     "output_type": "execute_result"
    }
   ],
   "source": [
    "# Remember to transform the target back for easier understanding\n",
    "mean_absolute_error(np.exp(y_test), np.exp(preds)), ikea['price'].mean()"
   ]
  },
  {
   "cell_type": "markdown",
   "metadata": {},
   "source": [
    "## Tune the Model\n",
    "\n",
    "Here we will look to tune the model's hyperparamters.  The Random Forest model has a variety of tuning parameters, we will focus on 4 here.\n",
    "\n",
    "* n_estimators: the number of trees that will be constructed  \n",
    "* max_depth: maximum number of levels of each tree  \n",
    "* min_samples_split: minimum number of items requires to split at a node\n",
    "* min_samples_leaf: minimum number of items at each leaf node\n",
    "\n",
    "Other parameters that can be tuned:  \n",
    "* max_features: which is the number of features to be considered at each split\n",
    "* bootstrap: whether to use bootstrapping to selct the samples.\n",
    "\n",
    "When tuning you provide a range of inputs that you want the model to calculate over, based on what is chosen below this would leave $6*10*3*3$ or 540 iterations of the model.  Rather than doing each iteration which would be done using `GridSearchCV`, we will utilize `RandomizedSearchCV` which will perform a choose random searches up to the defined number of iterations, we will run 50. \n",
    "\n",
    "In addition, in order to find the best parameters, we will utilize cross-validation with 5 folds.  This will divide our training set into 5 groups, in the first run, it will train on groups (1,2,3,4) and evaluate on 5, in the 2nd run, it will train on groups (1,2,3,5) and test on 4...etc.  We will perform this cross-validation on each of the 50 randomly choosen parameter sets and the model will output the best set of parameters for us to use."
   ]
  },
  {
   "cell_type": "code",
   "execution_count": 203,
   "metadata": {},
   "outputs": [
    {
     "data": {
      "text/plain": [
       "({'n_estimators': [200, 400, 600, 800, 1000, 1200],\n",
       "  'max_depth': [10, 14, 18, 23, 27, 32, 36, 41, 45, 50],\n",
       "  'min_samples_split': [2, 5, 10],\n",
       "  'min_samples_leaf': [1, 2, 4]},\n",
       " 540)"
      ]
     },
     "execution_count": 203,
     "metadata": {},
     "output_type": "execute_result"
    }
   ],
   "source": [
    "# define the parameters and ranges to tune over)\n",
    "n_estimators = [int(x) for x in np.linspace(start=200,stop=1200, num=6)]\n",
    "max_depth = [int(x) for x in np.linspace(10, 50, 10)]\n",
    "min_samples_split = [2, 5, 10]\n",
    "min_samples_leaf = [1, 2, 4]\n",
    "\n",
    "random_grid = {'n_estimators': n_estimators,\n",
    "              'max_depth': max_depth,\n",
    "              'min_samples_split': min_samples_split,\n",
    "              'min_samples_leaf': min_samples_leaf\n",
    "              }\n",
    "random_grid, (6*10*3*3)"
   ]
  },
  {
   "cell_type": "code",
   "execution_count": 231,
   "metadata": {},
   "outputs": [
    {
     "data": {
      "text/plain": [
       "RandomizedSearchCV(cv=5, estimator=RandomForestRegressor(), n_iter=50,\n",
       "                   param_distributions={'max_depth': [10, 14, 18, 23, 27, 32,\n",
       "                                                      36, 41, 45, 50],\n",
       "                                        'min_samples_leaf': [1, 2, 4],\n",
       "                                        'min_samples_split': [2, 5, 10],\n",
       "                                        'n_estimators': [200, 400, 600, 800,\n",
       "                                                         1000, 1200]},\n",
       "                   random_state=42)"
      ]
     },
     "execution_count": 231,
     "metadata": {},
     "output_type": "execute_result"
    }
   ],
   "source": [
    "# tune and fit the model to the training data\n",
    "rf = RandomForestRegressor(verbose=0)\n",
    "rf_random = RandomizedSearchCV(estimator=rf,\n",
    "                              param_distributions=random_grid,\n",
    "                              n_iter=50,\n",
    "                              cv=5,\n",
    "                              verbose=0,\n",
    "                              random_state=42)\n",
    "\n",
    "rf_random.fit(X_train_trans, y_train)"
   ]
  },
  {
   "cell_type": "code",
   "execution_count": 240,
   "metadata": {},
   "outputs": [
    {
     "data": {
      "text/plain": [
       "[DecisionTreeRegressor(max_features='auto', random_state=1608637542),\n",
       " DecisionTreeRegressor(max_features='auto', random_state=1273642419),\n",
       " DecisionTreeRegressor(max_features='auto', random_state=1935803228),\n",
       " DecisionTreeRegressor(max_features='auto', random_state=787846414),\n",
       " DecisionTreeRegressor(max_features='auto', random_state=996406378),\n",
       " DecisionTreeRegressor(max_features='auto', random_state=1201263687),\n",
       " DecisionTreeRegressor(max_features='auto', random_state=423734972),\n",
       " DecisionTreeRegressor(max_features='auto', random_state=415968276),\n",
       " DecisionTreeRegressor(max_features='auto', random_state=670094950),\n",
       " DecisionTreeRegressor(max_features='auto', random_state=1914837113),\n",
       " DecisionTreeRegressor(max_features='auto', random_state=669991378),\n",
       " DecisionTreeRegressor(max_features='auto', random_state=429389014),\n",
       " DecisionTreeRegressor(max_features='auto', random_state=249467210),\n",
       " DecisionTreeRegressor(max_features='auto', random_state=1972458954),\n",
       " DecisionTreeRegressor(max_features='auto', random_state=1572714583),\n",
       " DecisionTreeRegressor(max_features='auto', random_state=1433267572),\n",
       " DecisionTreeRegressor(max_features='auto', random_state=434285667),\n",
       " DecisionTreeRegressor(max_features='auto', random_state=613608295),\n",
       " DecisionTreeRegressor(max_features='auto', random_state=893664919),\n",
       " DecisionTreeRegressor(max_features='auto', random_state=648061058),\n",
       " DecisionTreeRegressor(max_features='auto', random_state=88409749),\n",
       " DecisionTreeRegressor(max_features='auto', random_state=242285876),\n",
       " DecisionTreeRegressor(max_features='auto', random_state=2018247425),\n",
       " DecisionTreeRegressor(max_features='auto', random_state=953477463),\n",
       " DecisionTreeRegressor(max_features='auto', random_state=1427830251),\n",
       " DecisionTreeRegressor(max_features='auto', random_state=1883569565),\n",
       " DecisionTreeRegressor(max_features='auto', random_state=911989541),\n",
       " DecisionTreeRegressor(max_features='auto', random_state=3344769),\n",
       " DecisionTreeRegressor(max_features='auto', random_state=780932287),\n",
       " DecisionTreeRegressor(max_features='auto', random_state=2114032571),\n",
       " DecisionTreeRegressor(max_features='auto', random_state=787716372),\n",
       " DecisionTreeRegressor(max_features='auto', random_state=504579232),\n",
       " DecisionTreeRegressor(max_features='auto', random_state=1306710475),\n",
       " DecisionTreeRegressor(max_features='auto', random_state=479546681),\n",
       " DecisionTreeRegressor(max_features='auto', random_state=106328085),\n",
       " DecisionTreeRegressor(max_features='auto', random_state=30349564),\n",
       " DecisionTreeRegressor(max_features='auto', random_state=1855189739),\n",
       " DecisionTreeRegressor(max_features='auto', random_state=99052376),\n",
       " DecisionTreeRegressor(max_features='auto', random_state=1250819632),\n",
       " DecisionTreeRegressor(max_features='auto', random_state=106406362),\n",
       " DecisionTreeRegressor(max_features='auto', random_state=480404538),\n",
       " DecisionTreeRegressor(max_features='auto', random_state=1717389822),\n",
       " DecisionTreeRegressor(max_features='auto', random_state=599121577),\n",
       " DecisionTreeRegressor(max_features='auto', random_state=200427519),\n",
       " DecisionTreeRegressor(max_features='auto', random_state=1254751707),\n",
       " DecisionTreeRegressor(max_features='auto', random_state=2034764475),\n",
       " DecisionTreeRegressor(max_features='auto', random_state=1573512143),\n",
       " DecisionTreeRegressor(max_features='auto', random_state=999745294),\n",
       " DecisionTreeRegressor(max_features='auto', random_state=1958805693),\n",
       " DecisionTreeRegressor(max_features='auto', random_state=389151677),\n",
       " DecisionTreeRegressor(max_features='auto', random_state=1224821422),\n",
       " DecisionTreeRegressor(max_features='auto', random_state=508464061),\n",
       " DecisionTreeRegressor(max_features='auto', random_state=857592370),\n",
       " DecisionTreeRegressor(max_features='auto', random_state=1642661739),\n",
       " DecisionTreeRegressor(max_features='auto', random_state=61136438),\n",
       " DecisionTreeRegressor(max_features='auto', random_state=2075460851),\n",
       " DecisionTreeRegressor(max_features='auto', random_state=396917567),\n",
       " DecisionTreeRegressor(max_features='auto', random_state=2004731384),\n",
       " DecisionTreeRegressor(max_features='auto', random_state=199502978),\n",
       " DecisionTreeRegressor(max_features='auto', random_state=1545932260),\n",
       " DecisionTreeRegressor(max_features='auto', random_state=461901618),\n",
       " DecisionTreeRegressor(max_features='auto', random_state=774414982),\n",
       " DecisionTreeRegressor(max_features='auto', random_state=732395540),\n",
       " DecisionTreeRegressor(max_features='auto', random_state=1934879560),\n",
       " DecisionTreeRegressor(max_features='auto', random_state=279394470),\n",
       " DecisionTreeRegressor(max_features='auto', random_state=56972561),\n",
       " DecisionTreeRegressor(max_features='auto', random_state=1927948675),\n",
       " DecisionTreeRegressor(max_features='auto', random_state=1899242072),\n",
       " DecisionTreeRegressor(max_features='auto', random_state=1999874363),\n",
       " DecisionTreeRegressor(max_features='auto', random_state=271820813),\n",
       " DecisionTreeRegressor(max_features='auto', random_state=1324556529),\n",
       " DecisionTreeRegressor(max_features='auto', random_state=1655351289),\n",
       " DecisionTreeRegressor(max_features='auto', random_state=1308306184),\n",
       " DecisionTreeRegressor(max_features='auto', random_state=68574553),\n",
       " DecisionTreeRegressor(max_features='auto', random_state=419498548),\n",
       " DecisionTreeRegressor(max_features='auto', random_state=991681409),\n",
       " DecisionTreeRegressor(max_features='auto', random_state=791274835),\n",
       " DecisionTreeRegressor(max_features='auto', random_state=1035196507),\n",
       " DecisionTreeRegressor(max_features='auto', random_state=1890440558),\n",
       " DecisionTreeRegressor(max_features='auto', random_state=787110843),\n",
       " DecisionTreeRegressor(max_features='auto', random_state=524150214),\n",
       " DecisionTreeRegressor(max_features='auto', random_state=472432043),\n",
       " DecisionTreeRegressor(max_features='auto', random_state=2126768636),\n",
       " DecisionTreeRegressor(max_features='auto', random_state=1431061255),\n",
       " DecisionTreeRegressor(max_features='auto', random_state=147697582),\n",
       " DecisionTreeRegressor(max_features='auto', random_state=744595490),\n",
       " DecisionTreeRegressor(max_features='auto', random_state=1758017741),\n",
       " DecisionTreeRegressor(max_features='auto', random_state=1679592528),\n",
       " DecisionTreeRegressor(max_features='auto', random_state=1111451555),\n",
       " DecisionTreeRegressor(max_features='auto', random_state=782698033),\n",
       " DecisionTreeRegressor(max_features='auto', random_state=698027879),\n",
       " DecisionTreeRegressor(max_features='auto', random_state=1096768899),\n",
       " DecisionTreeRegressor(max_features='auto', random_state=1338788865),\n",
       " DecisionTreeRegressor(max_features='auto', random_state=1826030589),\n",
       " DecisionTreeRegressor(max_features='auto', random_state=86191493),\n",
       " DecisionTreeRegressor(max_features='auto', random_state=893102645),\n",
       " DecisionTreeRegressor(max_features='auto', random_state=200619113),\n",
       " DecisionTreeRegressor(max_features='auto', random_state=290770691),\n",
       " DecisionTreeRegressor(max_features='auto', random_state=793943861),\n",
       " DecisionTreeRegressor(max_features='auto', random_state=134489564),\n",
       " DecisionTreeRegressor(max_features='auto', random_state=2016850622),\n",
       " DecisionTreeRegressor(max_features='auto', random_state=1470101905),\n",
       " DecisionTreeRegressor(max_features='auto', random_state=1181686489),\n",
       " DecisionTreeRegressor(max_features='auto', random_state=1931679275),\n",
       " DecisionTreeRegressor(max_features='auto', random_state=1887633569),\n",
       " DecisionTreeRegressor(max_features='auto', random_state=1697157321),\n",
       " DecisionTreeRegressor(max_features='auto', random_state=1695770557),\n",
       " DecisionTreeRegressor(max_features='auto', random_state=1832485859),\n",
       " DecisionTreeRegressor(max_features='auto', random_state=420477197),\n",
       " DecisionTreeRegressor(max_features='auto', random_state=976125790),\n",
       " DecisionTreeRegressor(max_features='auto', random_state=1811936047),\n",
       " DecisionTreeRegressor(max_features='auto', random_state=1402481934),\n",
       " DecisionTreeRegressor(max_features='auto', random_state=380072391),\n",
       " DecisionTreeRegressor(max_features='auto', random_state=302554573),\n",
       " DecisionTreeRegressor(max_features='auto', random_state=841739990),\n",
       " DecisionTreeRegressor(max_features='auto', random_state=89482491),\n",
       " DecisionTreeRegressor(max_features='auto', random_state=194249720),\n",
       " DecisionTreeRegressor(max_features='auto', random_state=1980718781),\n",
       " DecisionTreeRegressor(max_features='auto', random_state=1397283111),\n",
       " DecisionTreeRegressor(max_features='auto', random_state=1479761620),\n",
       " DecisionTreeRegressor(max_features='auto', random_state=1669356239),\n",
       " DecisionTreeRegressor(max_features='auto', random_state=1062231788),\n",
       " DecisionTreeRegressor(max_features='auto', random_state=1165435217),\n",
       " DecisionTreeRegressor(max_features='auto', random_state=170476398),\n",
       " DecisionTreeRegressor(max_features='auto', random_state=1411916852),\n",
       " DecisionTreeRegressor(max_features='auto', random_state=372593431),\n",
       " DecisionTreeRegressor(max_features='auto', random_state=1532243865),\n",
       " DecisionTreeRegressor(max_features='auto', random_state=1998256344),\n",
       " DecisionTreeRegressor(max_features='auto', random_state=1206604539),\n",
       " DecisionTreeRegressor(max_features='auto', random_state=459708603),\n",
       " DecisionTreeRegressor(max_features='auto', random_state=183378299),\n",
       " DecisionTreeRegressor(max_features='auto', random_state=1185407468),\n",
       " DecisionTreeRegressor(max_features='auto', random_state=605264936),\n",
       " DecisionTreeRegressor(max_features='auto', random_state=1272485020),\n",
       " DecisionTreeRegressor(max_features='auto', random_state=1297926158),\n",
       " DecisionTreeRegressor(max_features='auto', random_state=709816108),\n",
       " DecisionTreeRegressor(max_features='auto', random_state=320192576),\n",
       " DecisionTreeRegressor(max_features='auto', random_state=67157848),\n",
       " DecisionTreeRegressor(max_features='auto', random_state=2091163462),\n",
       " DecisionTreeRegressor(max_features='auto', random_state=1818495496),\n",
       " DecisionTreeRegressor(max_features='auto', random_state=1169282391),\n",
       " DecisionTreeRegressor(max_features='auto', random_state=1696003200),\n",
       " DecisionTreeRegressor(max_features='auto', random_state=853477355),\n",
       " DecisionTreeRegressor(max_features='auto', random_state=1260522119),\n",
       " DecisionTreeRegressor(max_features='auto', random_state=23717335),\n",
       " DecisionTreeRegressor(max_features='auto', random_state=60472382),\n",
       " DecisionTreeRegressor(max_features='auto', random_state=1354896522),\n",
       " DecisionTreeRegressor(max_features='auto', random_state=854021618),\n",
       " DecisionTreeRegressor(max_features='auto', random_state=888445520),\n",
       " DecisionTreeRegressor(max_features='auto', random_state=907706759),\n",
       " DecisionTreeRegressor(max_features='auto', random_state=983578274),\n",
       " DecisionTreeRegressor(max_features='auto', random_state=1246294434),\n",
       " DecisionTreeRegressor(max_features='auto', random_state=1165097248),\n",
       " DecisionTreeRegressor(max_features='auto', random_state=455094650),\n",
       " DecisionTreeRegressor(max_features='auto', random_state=318019332),\n",
       " DecisionTreeRegressor(max_features='auto', random_state=1830948329),\n",
       " DecisionTreeRegressor(max_features='auto', random_state=1539598566),\n",
       " DecisionTreeRegressor(max_features='auto', random_state=648870905),\n",
       " DecisionTreeRegressor(max_features='auto', random_state=497653800),\n",
       " DecisionTreeRegressor(max_features='auto', random_state=1782238235),\n",
       " DecisionTreeRegressor(max_features='auto', random_state=1559517318),\n",
       " DecisionTreeRegressor(max_features='auto', random_state=1503404232),\n",
       " DecisionTreeRegressor(max_features='auto', random_state=529561415),\n",
       " DecisionTreeRegressor(max_features='auto', random_state=1930375947),\n",
       " DecisionTreeRegressor(max_features='auto', random_state=1421196193),\n",
       " DecisionTreeRegressor(max_features='auto', random_state=409783328),\n",
       " DecisionTreeRegressor(max_features='auto', random_state=272981039),\n",
       " DecisionTreeRegressor(max_features='auto', random_state=1592652278),\n",
       " DecisionTreeRegressor(max_features='auto', random_state=1335658902),\n",
       " DecisionTreeRegressor(max_features='auto', random_state=725167677),\n",
       " DecisionTreeRegressor(max_features='auto', random_state=1396651735),\n",
       " DecisionTreeRegressor(max_features='auto', random_state=712631076),\n",
       " DecisionTreeRegressor(max_features='auto', random_state=986151010),\n",
       " DecisionTreeRegressor(max_features='auto', random_state=392121003),\n",
       " DecisionTreeRegressor(max_features='auto', random_state=590804839),\n",
       " DecisionTreeRegressor(max_features='auto', random_state=1179921109),\n",
       " DecisionTreeRegressor(max_features='auto', random_state=1663066074),\n",
       " DecisionTreeRegressor(max_features='auto', random_state=263038498),\n",
       " DecisionTreeRegressor(max_features='auto', random_state=2028147648),\n",
       " DecisionTreeRegressor(max_features='auto', random_state=1644658402),\n",
       " DecisionTreeRegressor(max_features='auto', random_state=513653348),\n",
       " DecisionTreeRegressor(max_features='auto', random_state=2025988014),\n",
       " DecisionTreeRegressor(max_features='auto', random_state=915879373),\n",
       " DecisionTreeRegressor(max_features='auto', random_state=1498573442),\n",
       " DecisionTreeRegressor(max_features='auto', random_state=1120063232),\n",
       " DecisionTreeRegressor(max_features='auto', random_state=952321028),\n",
       " DecisionTreeRegressor(max_features='auto', random_state=263183577),\n",
       " DecisionTreeRegressor(max_features='auto', random_state=1013547510),\n",
       " DecisionTreeRegressor(max_features='auto', random_state=1163795198),\n",
       " DecisionTreeRegressor(max_features='auto', random_state=1099805069),\n",
       " DecisionTreeRegressor(max_features='auto', random_state=2120835942),\n",
       " DecisionTreeRegressor(max_features='auto', random_state=173660954),\n",
       " DecisionTreeRegressor(max_features='auto', random_state=97636744),\n",
       " DecisionTreeRegressor(max_features='auto', random_state=904790222),\n",
       " DecisionTreeRegressor(max_features='auto', random_state=1836274702),\n",
       " DecisionTreeRegressor(max_features='auto', random_state=476272473),\n",
       " DecisionTreeRegressor(max_features='auto', random_state=109174313),\n",
       " DecisionTreeRegressor(max_features='auto', random_state=1886935931),\n",
       " DecisionTreeRegressor(max_features='auto', random_state=463390156),\n",
       " DecisionTreeRegressor(max_features='auto', random_state=866377394)]"
      ]
     },
     "execution_count": 240,
     "metadata": {},
     "output_type": "execute_result"
    }
   ],
   "source": [
    "rf_model.estimators_"
   ]
  },
  {
   "cell_type": "code",
   "execution_count": 232,
   "metadata": {},
   "outputs": [
    {
     "data": {
      "text/plain": [
       "{'n_estimators': 1200,\n",
       " 'min_samples_split': 2,\n",
       " 'min_samples_leaf': 1,\n",
       " 'max_depth': 23}"
      ]
     },
     "execution_count": 232,
     "metadata": {},
     "output_type": "execute_result"
    }
   ],
   "source": [
    "# retrieve the best parameters\n",
    "rf_random.best_params_"
   ]
  },
  {
   "cell_type": "code",
   "execution_count": 233,
   "metadata": {},
   "outputs": [
    {
     "data": {
      "text/plain": [
       "397.27203830019045"
      ]
     },
     "execution_count": 233,
     "metadata": {},
     "output_type": "execute_result"
    }
   ],
   "source": [
    "# predict on the test set and evaluate the best model parameters\n",
    "rf_best= rf_random.best_estimator_\n",
    "\n",
    "preds = rf_best.predict(X_test_trans)\n",
    "\n",
    "mean_absolute_error(np.exp(y_test), np.exp(preds))"
   ]
  },
  {
   "cell_type": "code",
   "execution_count": 234,
   "metadata": {},
   "outputs": [
    {
     "data": {
      "image/png": "[encoded data removed]",
      "text/plain": [
       "<Figure size 864x432 with 1 Axes>"
      ]
     },
     "metadata": {
      "needs_background": "light"
     },
     "output_type": "display_data"
    }
   ],
   "source": [
    "plt.figure(figsize=(12, 6))\n",
    "plt.scatter(y_test, preds, alpha=0.6)\n",
    "plt.title(\"Predictions vs Target Variables\")\n",
    "plt.xlabel(\"Target\")\n",
    "plt.ylabel(\"Predictions\");"
   ]
  },
  {
   "cell_type": "markdown",
   "metadata": {},
   "source": [
    "## Conclusion:\n",
    "\n",
    "Visually, our model seems to have done a reasonable just at estimating price, even if our MAE is still near 400.  And unfortunately, tuning the model did not improve the predictions on our test data.  This isn't entirely suprising given the preliminary analysis we did in the beginning.  However, we were able to work through some feature engineering and do some model tuning along the way."
   ]
  },
  {
   "cell_type": "code",
   "execution_count": null,
   "metadata": {},
   "outputs": [],
   "source": []
  },
  {
   "cell_type": "markdown",
   "metadata": {},
   "source": [
    "References:\n",
    "\n",
    "*Tune random forests for #TidyTuesday IKEA prices*:   https://juliasilge.com/blog/ikea-prices/  \n",
    "\n",
    "*Hyperparameter Tuning the Random Forest in Python*: https://towardsdatascience.com/hyperparameter-tuning-the-random-forest-in-python-using-scikit-learn-28d2aa77dd74"
   ]
  },
  {
   "cell_type": "code",
   "execution_count": null,
   "metadata": {},
   "outputs": [],
   "source": []
  }
 ],
 "metadata": {
  "kernelspec": {
   "display_name": "Python 3",
   "language": "python",
   "name": "python3"
  },
  "language_info": {
   "codemirror_mode": {
    "name": "ipython",
    "version": 3
   },
   "file_extension": ".py",
   "mimetype": "text/x-python",
   "name": "python",
   "nbconvert_exporter": "python",
   "pygments_lexer": "ipython3",
   "version": "3.8.5"
  }
 },
 "nbformat": 4,
 "nbformat_minor": 4
}
