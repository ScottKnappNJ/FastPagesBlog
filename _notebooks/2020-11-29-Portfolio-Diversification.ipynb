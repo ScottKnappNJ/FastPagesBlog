{
 "cells": [
  {
   "cell_type": "markdown",
   "metadata": {},
   "source": [
    "# Portfolio Diversification\n",
    "## Comparison of Allocation Methodologies\n",
    "\n",
    "#### Scott Knapp\n",
    "November 18, 2020"
   ]
  },
  {
   "cell_type": "markdown",
   "metadata": {},
   "source": [
    "## Outline\n",
    "\n",
    "* Executive Summary\n",
    "\n",
    "* Background\n",
    "    * Amount invested in traditional cap_weighted products\n",
    "* // Obtain the data\n",
    "    * // Fame French - 49 industries from 1/1/2000 to today\n",
    "        * // Obtain the files\n",
    "        * // Import the data\n",
    "* Alternative appraoches\n",
    "    * // Cap-weighted\n",
    "    * Equal-weighted\n",
    "        * Equal-weighted - adjusted for small sectors\n",
    "    * Discuss problem with Maximum Sharpe Ratio Portfolio with a simple example\n",
    "    * Global Minimum Variance\n",
    "        * with sample Covariance\n",
    "        * with Shrinking Covariance\n",
    "        * with Min and Mix constraints\n",
    "\n",
    "* For each approach discuss:  \n",
    "    * the intuitive background:\n",
    "    * the math\n",
    "    * display the summary stats\n",
    "    * Effective number of constiuents\n"
   ]
  },
  {
   "cell_type": "markdown",
   "metadata": {},
   "source": [
    "## Executive Summary"
   ]
  },
  {
   "cell_type": "markdown",
   "metadata": {},
   "source": [
    "## Background"
   ]
  },
  {
   "cell_type": "markdown",
   "metadata": {},
   "source": [
    "## Setup and Imports"
   ]
  },
  {
   "cell_type": "code",
   "execution_count": 98,
   "metadata": {},
   "outputs": [],
   "source": [
    "import pandas as pd\n",
    "import numpy as np\n",
    "from scipy.stats import norm\n",
    "import matplotlib.pyplot as plt\n",
    "\n",
    "%matplotlib inline"
   ]
  },
  {
   "cell_type": "markdown",
   "metadata": {},
   "source": [
    "## The Data\n",
    "\n",
    "Dartmouth College, through their Fama-French Data Library, offers an extensive array of raw data and factor portfolios going back to 1926.  We will be utilizing the 49 Industry Portfolio dataset, analzying monthly data from January, 2000 to September, 2020.  This time period will encompass 3 full market cycles, which will enable a more robust analysis of the various allocation methodologies.\n",
    "\n",
    "The data can be downloaded here: https://mba.tuck.dartmouth.edu/pages/faculty/ken.french/data_library.html"
   ]
  },
  {
   "cell_type": "markdown",
   "metadata": {},
   "source": [
    "We wil begin by importing monthly return data for both the value-weighted and equal-weighted industry portfolios.  These portfolios denote the weighting of the individual securities in each industry.  For example, if there are 44 firms in the `Cnstr` industry, the equal-weighted portfolio will assume an allocation of $\\frac{1}{44}$, or more generally $\\frac{1}{N}$, to each firm. \n",
    "\n",
    "Additionally, we will import the datasets for both the average firm size in each industry and the number of firms in each industry to be able to calculate a cap-weighted (value-weighted) index.  \n",
    "* (This is not to be confused with the above. First, we separate how each industry is weighted; value vs equal, then we determine how we allocate to each industry, value vs equal)."
   ]
  },
  {
   "cell_type": "code",
   "execution_count": 10,
   "metadata": {},
   "outputs": [],
   "source": [
    "# importing the monthly value-weighted returns for 49 industries\n",
    "m_vw_rets = pd.read_csv('data/ind49_m_vw_rets.csv', header=0, index_col=0, parse_dates=True) / 100\n",
    "# convert the index to equal the date, for time-series analysis\n",
    "m_vw_rets.index = pd.to_datetime(m_vw_rets.index, format=\"%Y%m\").to_period('M')\n",
    "# eliminate white space in column names for easier indexing\n",
    "m_vw_rets.columns = m_vw_rets.columns.str.strip()\n",
    "m_vw_rets = m_vw_rets[\"2000\":]"
   ]
  },
  {
   "cell_type": "markdown",
   "metadata": {},
   "source": [
    "The Industries that this dataset uses are:"
   ]
  },
  {
   "cell_type": "code",
   "execution_count": 3,
   "metadata": {},
   "outputs": [
    {
     "data": {
      "text/plain": [
       "Index(['Agric', 'Food', 'Soda', 'Beer', 'Smoke', 'Toys', 'Fun', 'Books',\n",
       "       'Hshld', 'Clths', 'Hlth', 'MedEq', 'Drugs', 'Chems', 'Rubbr', 'Txtls',\n",
       "       'BldMt', 'Cnstr', 'Steel', 'FabPr', 'Mach', 'ElcEq', 'Autos', 'Aero',\n",
       "       'Ships', 'Guns', 'Gold', 'Mines', 'Coal', 'Oil', 'Util', 'Telcm',\n",
       "       'PerSv', 'BusSv', 'Hardw', 'Softw', 'Chips', 'LabEq', 'Paper', 'Boxes',\n",
       "       'Trans', 'Whlsl', 'Rtail', 'Meals', 'Banks', 'Insur', 'RlEst', 'Fin',\n",
       "       'Other'],\n",
       "      dtype='object')"
      ]
     },
     "execution_count": 3,
     "metadata": {},
     "output_type": "execute_result"
    }
   ],
   "source": [
    "m_vw_rets.columns"
   ]
  },
  {
   "cell_type": "code",
   "execution_count": 11,
   "metadata": {},
   "outputs": [],
   "source": [
    "# importing the monthly equal-weighted returns for 49 industries\n",
    "m_ew_rets = pd.read_csv('data/ind49_m_ew_rets.csv', header=0, index_col=0, parse_dates=True) / 100\n",
    "m_ew_rets.index = pd.to_datetime(m_ew_rets.index, format=\"%Y%m\").to_period('M')\n",
    "m_ew_rets.columns = m_ew_rets.columns.str.strip()\n",
    "m_ew_rets = m_ew_rets[\"2000\":]"
   ]
  },
  {
   "cell_type": "code",
   "execution_count": 18,
   "metadata": {},
   "outputs": [],
   "source": [
    "# importing and formatting the monthly average firm size and number of firms datasets\n",
    "ind_size = pd.read_csv('data/ind49_m_size.csv', header=0, index_col=0, parse_dates=True)\n",
    "ind_size.index = pd.to_datetime(ind_size.index, format=\"%Y%m\").to_period('M')\n",
    "ind_size.columns = ind_size.columns.str.strip()\n",
    "ind_size = ind_size[\"2000\":]\n",
    "\n",
    "ind_nfirms = pd.read_csv ('data/ind49_m_nfirms.csv', header=0, index_col=0, parse_dates=True)\n",
    "ind_nfirms.index = pd.to_datetime(ind_nfirms.index, format=\"%Y%m\").to_period('M')\n",
    "ind_nfirms.columns = ind_nfirms.columns.str.strip()\n",
    "ind_nfirms = ind_nfirms[\"2000\":]"
   ]
  },
  {
   "cell_type": "markdown",
   "metadata": {},
   "source": [
    "Let's write a quick function to calculate the value_weighted portfolio monthly returns for both equal-weighted industries and value_weighted industries. And calculate both value-weighted and equal-weigthed total portfolios."
   ]
  },
  {
   "cell_type": "code",
   "execution_count": 19,
   "metadata": {},
   "outputs": [],
   "source": [
    "def value_weighted_returns(ind_returns, ind_size, ind_nfirms):\n",
    "    # Calculate the market cap for each industry\n",
    "    ind_mktcap = ind_size * ind_nfirms\n",
    "    # Colculate the total market cap for all industries\n",
    "    total_mktcap = ind_mktcap.sum(axis=\"columns\")   \n",
    "    # Calculate the weighting of each industry in the total market cap\n",
    "    ind_cap_wgt = ind_mktcap.divide(total_mktcap, axis = \"rows\")\n",
    "    # Calcualte the total market return for each period\n",
    "    total_market_return = (ind_cap_wgt * ind_returns).sum(axis=\"columns\")\n",
    "    \n",
    "    return total_market_return"
   ]
  },
  {
   "cell_type": "code",
   "execution_count": 50,
   "metadata": {},
   "outputs": [],
   "source": [
    "# Calculate the value-weighted portfolio market returns for the value-weighted industries\n",
    "m_vw_vw_rets = value_weighted_returns(m_vw_rets, ind_size, ind_nfirms)\n",
    "\n",
    "# Calculate the value-weighted portfolio market returns for the equal-weighted industries\n",
    "m_vw_ew_rets = value_weighted_returns(m_ew_rets, ind_size, ind_nfirms)"
   ]
  },
  {
   "cell_type": "code",
   "execution_count": 51,
   "metadata": {},
   "outputs": [],
   "source": [
    "# Calculate the equal-weighted portfolios returns for the value-weigthed industries\n",
    "m_ew_vw_rets = m_vw_rets.mean(axis=\"columns\")\n",
    "\n",
    "# Calculate the equal-weighted portfolios returns for the equal-weigthed industries\n",
    "m_ew_ew_rets = m_ew_rets.mean(axis=\"columns\")"
   ]
  },
  {
   "cell_type": "code",
   "execution_count": 53,
   "metadata": {},
   "outputs": [
    {
     "data": {
      "text/html": [
       "<div>\n",
       "<style scoped>\n",
       "    .dataframe tbody tr th:only-of-type {\n",
       "        vertical-align: middle;\n",
       "    }\n",
       "\n",
       "    .dataframe tbody tr th {\n",
       "        vertical-align: top;\n",
       "    }\n",
       "\n",
       "    .dataframe thead th {\n",
       "        text-align: right;\n",
       "    }\n",
       "</style>\n",
       "<table border=\"1\" class=\"dataframe\">\n",
       "  <thead>\n",
       "    <tr style=\"text-align: right;\">\n",
       "      <th></th>\n",
       "      <th>Value-Weighted - EW Port</th>\n",
       "      <th>Value-Weighted - VW Port</th>\n",
       "      <th>Equal-Weighted - EW Port</th>\n",
       "      <th>Equal-Weighted - VW Port</th>\n",
       "    </tr>\n",
       "  </thead>\n",
       "  <tbody>\n",
       "    <tr>\n",
       "      <th>2000-01</th>\n",
       "      <td>0.070894</td>\n",
       "      <td>-0.040130</td>\n",
       "      <td>0.044173</td>\n",
       "      <td>-0.033673</td>\n",
       "    </tr>\n",
       "    <tr>\n",
       "      <th>2000-02</th>\n",
       "      <td>0.188816</td>\n",
       "      <td>0.019456</td>\n",
       "      <td>0.090876</td>\n",
       "      <td>-0.021078</td>\n",
       "    </tr>\n",
       "    <tr>\n",
       "      <th>2000-03</th>\n",
       "      <td>-0.005319</td>\n",
       "      <td>0.074055</td>\n",
       "      <td>0.022084</td>\n",
       "      <td>0.076998</td>\n",
       "    </tr>\n",
       "    <tr>\n",
       "      <th>2000-04</th>\n",
       "      <td>-0.113548</td>\n",
       "      <td>-0.045298</td>\n",
       "      <td>-0.056082</td>\n",
       "      <td>-0.003986</td>\n",
       "    </tr>\n",
       "    <tr>\n",
       "      <th>2000-05</th>\n",
       "      <td>-0.070897</td>\n",
       "      <td>-0.030830</td>\n",
       "      <td>-0.040545</td>\n",
       "      <td>-0.016059</td>\n",
       "    </tr>\n",
       "    <tr>\n",
       "      <th>...</th>\n",
       "      <td>...</td>\n",
       "      <td>...</td>\n",
       "      <td>...</td>\n",
       "      <td>...</td>\n",
       "    </tr>\n",
       "    <tr>\n",
       "      <th>2020-05</th>\n",
       "      <td>0.085765</td>\n",
       "      <td>0.055291</td>\n",
       "      <td>0.069798</td>\n",
       "      <td>0.055661</td>\n",
       "    </tr>\n",
       "    <tr>\n",
       "      <th>2020-06</th>\n",
       "      <td>0.069212</td>\n",
       "      <td>0.023037</td>\n",
       "      <td>0.073351</td>\n",
       "      <td>0.018688</td>\n",
       "    </tr>\n",
       "    <tr>\n",
       "      <th>2020-07</th>\n",
       "      <td>0.057484</td>\n",
       "      <td>0.058037</td>\n",
       "      <td>0.060947</td>\n",
       "      <td>0.060033</td>\n",
       "    </tr>\n",
       "    <tr>\n",
       "      <th>2020-08</th>\n",
       "      <td>0.051738</td>\n",
       "      <td>0.077836</td>\n",
       "      <td>0.051535</td>\n",
       "      <td>0.065782</td>\n",
       "    </tr>\n",
       "    <tr>\n",
       "      <th>2020-09</th>\n",
       "      <td>-0.029560</td>\n",
       "      <td>-0.036431</td>\n",
       "      <td>-0.023606</td>\n",
       "      <td>-0.017476</td>\n",
       "    </tr>\n",
       "  </tbody>\n",
       "</table>\n",
       "<p>249 rows × 4 columns</p>\n",
       "</div>"
      ],
      "text/plain": [
       "         Value-Weighted - EW Port  Value-Weighted - VW Port  \\\n",
       "2000-01                  0.070894                 -0.040130   \n",
       "2000-02                  0.188816                  0.019456   \n",
       "2000-03                 -0.005319                  0.074055   \n",
       "2000-04                 -0.113548                 -0.045298   \n",
       "2000-05                 -0.070897                 -0.030830   \n",
       "...                           ...                       ...   \n",
       "2020-05                  0.085765                  0.055291   \n",
       "2020-06                  0.069212                  0.023037   \n",
       "2020-07                  0.057484                  0.058037   \n",
       "2020-08                  0.051738                  0.077836   \n",
       "2020-09                 -0.029560                 -0.036431   \n",
       "\n",
       "         Equal-Weighted - EW Port  Equal-Weighted - VW Port  \n",
       "2000-01                  0.044173                 -0.033673  \n",
       "2000-02                  0.090876                 -0.021078  \n",
       "2000-03                  0.022084                  0.076998  \n",
       "2000-04                 -0.056082                 -0.003986  \n",
       "2000-05                 -0.040545                 -0.016059  \n",
       "...                           ...                       ...  \n",
       "2020-05                  0.069798                  0.055661  \n",
       "2020-06                  0.073351                  0.018688  \n",
       "2020-07                  0.060947                  0.060033  \n",
       "2020-08                  0.051535                  0.065782  \n",
       "2020-09                 -0.023606                 -0.017476  \n",
       "\n",
       "[249 rows x 4 columns]"
      ]
     },
     "execution_count": 53,
     "metadata": {},
     "output_type": "execute_result"
    }
   ],
   "source": [
    "returns = pd.DataFrame({\n",
    "    \"Value-Weighted - EW Port\": m_vw_ew_rets,\n",
    "    \"Value-Weighted - VW Port\": m_vw_vw_rets,\n",
    "    \"Equal-Weighted - EW Port\": m_ew_ew_rets,\n",
    "    \"Equal-Weighted - VW Port\": m_ew_vw_rets,\n",
    "})\n",
    "\n",
    "returns"
   ]
  },
  {
   "cell_type": "markdown",
   "metadata": {},
   "source": [
    "Next, we will create some summary statistics to compare these portfolios.\n",
    "* Annualized Returns\n",
    "* Annualized Standard Deviation\n",
    "* Sharpe Ratio\n",
    "* Drawdown\n",
    "* Skewness\n",
    "* Kurtosis\n",
    "* Histroic VaR (5%)\n",
    "* Cornish-Fisher VaR"
   ]
  },
  {
   "cell_type": "code",
   "execution_count": 103,
   "metadata": {},
   "outputs": [],
   "source": [
    "def annualize_rets(returns, periods_per_year=12):\n",
    "    # compound each years' return at 1+r\n",
    "    compounded_growth = (1+returns).prod()\n",
    "    # calculate the number of periods in ind_returns\n",
    "    n_periods = returns.shape[0]\n",
    "    \n",
    "    return compounded_growth ** (periods_per_year / n_periods) - 1\n",
    "\n",
    "def annualize_stdev(returns, periods_per_year=12):\n",
    "    return returns.std() * np.sqrt(periods_per_year)\n",
    "\n",
    "def sharpe_ratio(returns, risk_free_rate=0, periods_per_year=12):\n",
    "    rf_per_period = (1+risk_free_rate) ** (1/periods_per_year) - 1\n",
    "    excess_ret = returns - rf_per_period\n",
    "    ann_ex_ret = annualize_rets(excess_ret, periods_per_year)\n",
    "    ann_sd = annualize_stdev(returns, periods_per_year)\n",
    "    \n",
    "    return ann_ex_ret / ann_sd\n",
    "\n",
    "def max_drawdown(returns):\n",
    "    # calculate the accumulated growth at each period\n",
    "    compounded_growth = (1+returns).cumprod()\n",
    "    # calculate the previous peak value at each period\n",
    "    previous_peaks = compounded_growth.cummax()\n",
    "    # calculate the drawdowns at each period\n",
    "    drawdowns = (compounded_growth - previous_peaks) / previous_peaks\n",
    "    \n",
    "    return -drawdowns.min()\n",
    "\n",
    "def skewness(returns):\n",
    "    # calculate each period's return difference from the average return\n",
    "    demeaned_r = returns - returns.mean()\n",
    "    # calculate the standard devistion of the portfolio\n",
    "    sigma_r = returns.std(ddof=0)  # using ddof=0, to calculate population standard deviation\n",
    "    # caluclate the numerator in the equation\n",
    "    exp = (demeaned_r**3).mean()\n",
    "    \n",
    "    return exp / sigma_r**3\n",
    "\n",
    "def kurtosis(returns):\n",
    "    # calculate each period's return difference from the average return\n",
    "    demeaned_r = returns - returns.mean()\n",
    "    # calculate the standard devistion of the portfolio\n",
    "    sigma_r = returns.std(ddof=0)  # using ddof=0, to calculate population standard deviation\n",
    "    # caluclate the numerator in the equation\n",
    "    exp = (demeaned_r**4).mean()\n",
    "    \n",
    "    return exp / sigma_r**4\n",
    "\n",
    "def var_historic(returns, level=5):\n",
    "    return -np.percentile(returns, level)\n",
    "\n",
    "def var_cornish_fisher(returns, level=5):\n",
    "    # compute the Z score assuming it was Gaussian\n",
    "    z = norm.ppf(level/100)\n",
    "    \n",
    "    s = skewness(returns)\n",
    "    k = kurtosis(returns)\n",
    "    z = (z +\n",
    "                 (z**2 - 1) * s/6 +\n",
    "                 (z**3 - 3*z) * (k-3)/24 -\n",
    "                 (2*z**3 - 5*z) * (s**2)/36\n",
    "            )\n",
    "    return -(returns.mean() + z * returns.std(ddof=0))\n",
    "\n",
    "def summary_stats(returns, periods_per_year=12, risk_free_rate=0.02):\n",
    "    summary_df = pd.DataFrame({\n",
    "        \"Annualized Return\": returns.aggregate(annualize_rets, periods_per_year=periods_per_year),\n",
    "        \"Annualized Vol\": returns.aggregate(annualize_stdev, periods_per_year=periods_per_year),\n",
    "        \"Sharpe Ratio\": returns.aggregate(sharpe_ratio, risk_free_rate=risk_free_rate, \n",
    "                                              periods_per_year=periods_per_year),\n",
    "        \"Max Drawdown\": returns.aggregate(max_drawdown),\n",
    "        \"Skewness\": returns.aggregate(skewness),\n",
    "        \"Kurtosis\": returns.aggregate(kurtosis),\n",
    "        \"Historic 5% VaR\": returns.aggregate(var_historic),\n",
    "        \"CF 5% VaR\": returns.aggregate(var_cornish_fisher)\n",
    "    })\n",
    "    return summary_df"
   ]
  },
  {
   "cell_type": "code",
   "execution_count": 104,
   "metadata": {},
   "outputs": [
    {
     "data": {
      "text/html": [
       "<div>\n",
       "<style scoped>\n",
       "    .dataframe tbody tr th:only-of-type {\n",
       "        vertical-align: middle;\n",
       "    }\n",
       "\n",
       "    .dataframe tbody tr th {\n",
       "        vertical-align: top;\n",
       "    }\n",
       "\n",
       "    .dataframe thead th {\n",
       "        text-align: right;\n",
       "    }\n",
       "</style>\n",
       "<table border=\"1\" class=\"dataframe\">\n",
       "  <thead>\n",
       "    <tr style=\"text-align: right;\">\n",
       "      <th></th>\n",
       "      <th>Annualized Return</th>\n",
       "      <th>Annualized Vol</th>\n",
       "      <th>Sharpe Ratio</th>\n",
       "      <th>Max Drawdown</th>\n",
       "      <th>Skewness</th>\n",
       "      <th>Kurtosis</th>\n",
       "      <th>Historic 5% VaR</th>\n",
       "      <th>CF 5% VaR</th>\n",
       "    </tr>\n",
       "  </thead>\n",
       "  <tbody>\n",
       "    <tr>\n",
       "      <th>Value-Weighted - EW Port</th>\n",
       "      <td>0.091434</td>\n",
       "      <td>0.216458</td>\n",
       "      <td>0.323901</td>\n",
       "      <td>0.583520</td>\n",
       "      <td>-0.067811</td>\n",
       "      <td>4.919207</td>\n",
       "      <td>0.093561</td>\n",
       "      <td>0.092089</td>\n",
       "    </tr>\n",
       "    <tr>\n",
       "      <th>Value-Weighted - VW Port</th>\n",
       "      <td>0.066911</td>\n",
       "      <td>0.154981</td>\n",
       "      <td>0.297115</td>\n",
       "      <td>0.500088</td>\n",
       "      <td>-0.568248</td>\n",
       "      <td>3.966089</td>\n",
       "      <td>0.078383</td>\n",
       "      <td>0.073090</td>\n",
       "    </tr>\n",
       "    <tr>\n",
       "      <th>Equal-Weighted - EW Port</th>\n",
       "      <td>0.101640</td>\n",
       "      <td>0.207453</td>\n",
       "      <td>0.386287</td>\n",
       "      <td>0.598352</td>\n",
       "      <td>-0.271297</td>\n",
       "      <td>5.841772</td>\n",
       "      <td>0.087737</td>\n",
       "      <td>0.089501</td>\n",
       "    </tr>\n",
       "    <tr>\n",
       "      <th>Equal-Weighted - VW Port</th>\n",
       "      <td>0.088844</td>\n",
       "      <td>0.165339</td>\n",
       "      <td>0.408761</td>\n",
       "      <td>0.528351</td>\n",
       "      <td>-0.642084</td>\n",
       "      <td>5.549245</td>\n",
       "      <td>0.079556</td>\n",
       "      <td>0.075951</td>\n",
       "    </tr>\n",
       "  </tbody>\n",
       "</table>\n",
       "</div>"
      ],
      "text/plain": [
       "                          Annualized Return  Annualized Vol  Sharpe Ratio  \\\n",
       "Value-Weighted - EW Port           0.091434        0.216458      0.323901   \n",
       "Value-Weighted - VW Port           0.066911        0.154981      0.297115   \n",
       "Equal-Weighted - EW Port           0.101640        0.207453      0.386287   \n",
       "Equal-Weighted - VW Port           0.088844        0.165339      0.408761   \n",
       "\n",
       "                          Max Drawdown  Skewness  Kurtosis  Historic 5% VaR  \\\n",
       "Value-Weighted - EW Port      0.583520 -0.067811  4.919207         0.093561   \n",
       "Value-Weighted - VW Port      0.500088 -0.568248  3.966089         0.078383   \n",
       "Equal-Weighted - EW Port      0.598352 -0.271297  5.841772         0.087737   \n",
       "Equal-Weighted - VW Port      0.528351 -0.642084  5.549245         0.079556   \n",
       "\n",
       "                          CF 5% VaR  \n",
       "Value-Weighted - EW Port   0.092089  \n",
       "Value-Weighted - VW Port   0.073090  \n",
       "Equal-Weighted - EW Port   0.089501  \n",
       "Equal-Weighted - VW Port   0.075951  "
      ]
     },
     "execution_count": 104,
     "metadata": {},
     "output_type": "execute_result"
    }
   ],
   "source": [
    "summary_stats(returns)"
   ]
  },
  {
   "cell_type": "code",
   "execution_count": null,
   "metadata": {},
   "outputs": [],
   "source": []
  }
 ],
 "metadata": {
  "kernelspec": {
   "display_name": "Python 3",
   "language": "python",
   "name": "python3"
  },
  "language_info": {
   "codemirror_mode": {
    "name": "ipython",
    "version": 3
   },
   "file_extension": ".py",
   "mimetype": "text/x-python",
   "name": "python",
   "nbconvert_exporter": "python",
   "pygments_lexer": "ipython3",
   "version": "3.8.5"
  }
 },
 "nbformat": 4,
 "nbformat_minor": 4
}
