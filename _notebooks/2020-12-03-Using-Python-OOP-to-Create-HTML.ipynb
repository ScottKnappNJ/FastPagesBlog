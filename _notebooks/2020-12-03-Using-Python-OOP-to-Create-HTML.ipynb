{
 "cells": [
  {
   "cell_type": "markdown",
   "metadata": {},
   "source": [
    "# Using Python OOP to Create HTML Code"
   ]
  },
  {
   "cell_type": "markdown",
   "metadata": {},
   "source": [
    "We will utilize Python's Obejct-Oriented-Programming to ease the ability to construct some simple HTML code.  First, let's take a look at what is needed for HTML. An HTML 4 documents contains three elements:\n",
    "\n",
    "1) a line containing the version information of HTML being used  \n",
    "2) a header section enclosed in  <HEAD> tags      \n",
    "3) a body section, where contains the document's content, enclosed in <BODY> tags  \n",
    "\n",
    "Here's an example of an HTML document:\n",
    "    \n",
    "```html\n",
    "<!DOCTYPE HTML PUBLIC \"-//W3C//DTD HTML 4.01//EN\"\n",
    "   \"http://www.w3.org/TR/html4/strict.dtd\">\n",
    "<HTML>\n",
    "   <HEAD>\n",
    "      <TITLE>My first HTML document</TITLE>\n",
    "   </HEAD>\n",
    "   <BODY>\n",
    "      <P>Hello world!\n",
    "   </BODY>\n",
    "</HTML>\n",
    "```   "
   ]
  },
  {
   "cell_type": "markdown",
   "metadata": {},
   "source": [
    "From this we can start to see what we need in order to create this simple code.\n",
    "\n",
    "We will begin by creating a `Tag` class.  We will use this class across the classes we will create below. The `Tag` class will take a `name` and `contents` as input.  From these, `__init__` will create the `start_tag`, the `contents`, and the `end_tag`.   This will allow us to create a `__str__` and `display` method to print the `Tag`."
   ]
  },
  {
   "cell_type": "code",
   "execution_count": 36,
   "metadata": {},
   "outputs": [],
   "source": [
    "class Tag(object):\n",
    "    \n",
    "    def __init__(self, name, contents):\n",
    "        self.start_tag = '<{}>'.format(name)\n",
    "        self.end_tag = '</{}>'.format(name)\n",
    "        self.contents = contents\n",
    "        \n",
    "    def __str__(self):\n",
    "        return \"{0.start_tag}{0.contents}{0.end_tag}\".format(self)\n",
    "    \n",
    "    def display(self, file=None):\n",
    "        print(self, file=file)"
   ]
  },
  {
   "cell_type": "markdown",
   "metadata": {},
   "source": [
    "With the `Tag` class created, we can now use Inheritancce to create the following classes: `DocType`, `Head` and `Body`.\n",
    "\n",
    "The `DocType` class will be need to adjust the use of `Tag` slightly.  Using `super()` to inherit the `Tag` methods, and specify `name` as our doctype, leaving `contents` as a blank string.  We will also have to overwrite the `end_tag` to a blank string to construct the DocType correctly."
   ]
  },
  {
   "cell_type": "code",
   "execution_count": 37,
   "metadata": {},
   "outputs": [],
   "source": [
    "class DocType(Tag):\n",
    "    \n",
    "    def __init__(self):\n",
    "        super().__init__('!DOCTYPE HTML PUBLIC \"-//W3C//DTD HTML 4.01//EN\" http://www.w3.org/TR/html4/strict.dtd', '')\n"
   ]
  },
  {
   "cell_type": "markdown",
   "metadata": {},
   "source": [
    "Next, we will create our `Head` class.  Here, we will again utilize `super()` to inherit the `Tag` class, but we will include the ability to add a `title`.  We will initialize `title` equal to `None` and include an `if` statement to include the information if provided."
   ]
  },
  {
   "cell_type": "code",
   "execution_count": 38,
   "metadata": {},
   "outputs": [],
   "source": [
    "class Head(Tag):\n",
    "    \n",
    "    def __init__(self, title=None):\n",
    "        super().__init__('HEAD', '')\n",
    "        if title:\n",
    "            self._title_tag = Tag('TITLE', title)\n",
    "            self.contents = str(self._title_tag)"
   ]
  },
  {
   "cell_type": "markdown",
   "metadata": {},
   "source": [
    "We will continue on, creating our `Body` class.  Here, we will be including an `add_tag` method to provide the ability to include a variety of tags to the `Body`.  This will be done by appending the `new_tag` to the `_body_contents` list.  Additionally, we will have overwrite the `display` method as now, we will have to loop through the `_body_contents` list to print.\n",
    "\n",
    "This is a good place for a quick aside on the leading `_` that is used throughout the code.  By including a leading underscore, such as with `_body_contents`, Python does not display this as a potential object to be called.  It is still accessible if the user enters the full object name, but by not including displaying it as a possible object, it reduces the likelihood that a user will directly change this object."
   ]
  },
  {
   "cell_type": "code",
   "execution_count": 39,
   "metadata": {},
   "outputs": [],
   "source": [
    "class Body(Tag):\n",
    "    \n",
    "    def __init__(self):\n",
    "        super().__init__('BODY', '')    \n",
    "        self._body_contents = []\n",
    "        \n",
    "    def add_tag(self, name, contents):\n",
    "        new_tag = Tag(name, contents)\n",
    "        self._body_contents.append(\"\\n\\t\")\n",
    "        self._body_contents.append(new_tag)\n",
    "        \n",
    "    def display(self, file=None):\n",
    "        for tag in self._body_contents:\n",
    "            self.contents += str(tag)\n",
    "            \n",
    "        super().display(file=file)"
   ]
  },
  {
   "cell_type": "markdown",
   "metadata": {},
   "source": [
    "Lastly, we will combine all these to create our `HtmlDoc` class, which will combine the use of Compositin and Aggregation.  First we will define our class as needing two inputs, `head` and `body`.  These will be instantiated and defined by the user and then fed into the `HtmlDoc` object.  The use of a created class as an input into another class is known as Aggregation.  Composition is when you use another class during the construction of the class, as we did with the `DocType()` class.  As it is unlikely, we will need the contents of `DocType` we can build it into the `HtmlDoc` construction and away from the user.\n",
    "\n",
    "We have added the `add_tag` method which allows you to add to `Body` of the document if you'd like.  And created an expanded `Display` method to produce our final code."
   ]
  },
  {
   "cell_type": "code",
   "execution_count": 40,
   "metadata": {},
   "outputs": [],
   "source": [
    "class HtmlDoc(object):\n",
    "    \n",
    "    def __init__(self, head, body):\n",
    "        self._doc_type = DocType()\n",
    "        self._head = head\n",
    "        self._body = body\n",
    "        \n",
    "    def add_tag(self, name, contents):\n",
    "        self._body.add_tag(name, contents)\n",
    "        \n",
    "    def display(self, file=None):\n",
    "        self._doc_type.display(file=file)\n",
    "        print('<HTML>', file=file)\n",
    "        self._head.display(file=file)\n",
    "        self._body.display(file=file)\n",
    "        print('</HTML>', file=file)"
   ]
  },
  {
   "cell_type": "markdown",
   "metadata": {},
   "source": [
    "Now that we've created all the necessary classes, let's test it out.  We will display the text here, as well as create a 'test.html' file, which we can open in our browser to confirm everything is working.\n",
    "\n",
    "We include the\n",
    "\n",
    "```python\n",
    "if __name__ == '__main__':\n",
    "```\n",
    "\n",
    "to ensure that if this module was imported into another one, this code isn't run."
   ]
  },
  {
   "cell_type": "code",
   "execution_count": 43,
   "metadata": {},
   "outputs": [
    {
     "name": "stdout",
     "output_type": "stream",
     "text": [
      "<!DOCTYPE HTML PUBLIC \"-//W3C//DTD HTML 4.01//EN\" http://www.w3.org/TR/html4/strict.dtd></!DOCTYPE HTML PUBLIC \"-//W3C//DTD HTML 4.01//EN\" http://www.w3.org/TR/html4/strict.dtd>\n",
      "<HTML>\n",
      "<HEAD><TITLE>HTML Test Document</TITLE></HEAD>\n",
      "<BODY>\n",
      "\t<h1>HTML Code</h1>\n",
      "\t<h2>Using Python OOP</h2>\n",
      "\t<p>This code uses Python OOP to create HTML Code</p>\n",
      "\t<p>The code utulizes the concepts of Inheritance, Composition and Aggregation</p></BODY>\n",
      "</HTML>\n"
     ]
    }
   ],
   "source": [
    "if __name__ == '__main__':\n",
    "    \n",
    "    new_header = Head('HTML Test Document')\n",
    "    new_body = Body()\n",
    "    new_body.add_tag('h1', 'HTML Code')\n",
    "    new_body.add_tag('h2', 'Using Python OOP')\n",
    "    new_body.add_tag('p', 'This code uses Python OOP to create HTML Code')\n",
    "    new_body.add_tag('p', 'The code utulizes the concepts of Inheritance, Composition and Aggregation')\n",
    "    new_page = HtmlDoc(new_header, new_body)\n",
    "    \n",
    "    new_page.display()\n",
    "    \n",
    "    with open('test.html', 'w') as test_doc:\n",
    "        new_page.display(file=test_doc)\n",
    "    "
   ]
  },
  {
   "cell_type": "markdown",
   "metadata": {},
   "source": [
    "OK.  Everything looks good.  We could do a little work on the spacing to make everything more readable, but this is simply a cosmetic issue, as HTML does not use new lines or tabs in compliing the code.  So, all-in-all, we learn a little Object-Oriented-Programming concepts while learning some HTML along the way. "
   ]
  },
  {
   "cell_type": "code",
   "execution_count": null,
   "metadata": {},
   "outputs": [],
   "source": []
  },
  {
   "cell_type": "markdown",
   "metadata": {},
   "source": [
    "References:\n",
    "    \n",
    "* *Learn Python Programming Masterclass* - Udemy - Tim Buchalka  \n",
    "* *The Global Structure of an HTML document* - https://www.w3.org/TR/html401/struct/global.html"
   ]
  },
  {
   "cell_type": "code",
   "execution_count": null,
   "metadata": {},
   "outputs": [],
   "source": []
  }
 ],
 "metadata": {
  "kernelspec": {
   "display_name": "Python 3",
   "language": "python",
   "name": "python3"
  },
  "language_info": {
   "codemirror_mode": {
    "name": "ipython",
    "version": 3
   },
   "file_extension": ".py",
   "mimetype": "text/x-python",
   "name": "python",
   "nbconvert_exporter": "python",
   "pygments_lexer": "ipython3",
   "version": "3.8.5"
  }
 },
 "nbformat": 4,
 "nbformat_minor": 4
}
