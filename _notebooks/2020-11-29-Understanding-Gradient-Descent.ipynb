{
  "nbformat": 4,
  "nbformat_minor": 0,
  "metadata": {
    "colab": {
      "name": "2020-11-29-Understanding-Gradient-Descent.ipynb",
      "provenance": [],
      "collapsed_sections": [],
      "toc_visible": true
    },
    "kernelspec": {
      "name": "python3",
      "display_name": "Python 3"
    },
    "accelerator": "GPU"
  },
  "cells": [
    {
      "cell_type": "markdown",
      "metadata": {
        "id": "7SmfKxltslNo"
      },
      "source": [
        "# Understanding Gradient Descent"
      ]
    },
    {
      "cell_type": "code",
      "metadata": {
        "id": "Y5dgHfbYjDCd"
      },
      "source": [
        "#collapse\n",
        "!pip install -Uqq fastbook\n",
        "import fastbook\n",
        "fastbook.setup_book()"
      ],
      "execution_count": 39,
      "outputs": []
    },
    {
      "cell_type": "code",
      "metadata": {
        "id": "dRdZv9b-jL0i"
      },
      "source": [
        "#collapse\n",
        "from fastai.vision.all import *\n",
        "from fastbook import *\n",
        "\n",
        "matplotlib.rc('image', cmap='Greys')"
      ],
      "execution_count": 40,
      "outputs": []
    },
    {
      "cell_type": "markdown",
      "metadata": {
        "id": "BjQa2w-ATMqh"
      },
      "source": [
        "In recent years, with the increase in computing speed, increaed access to GPUs (Graphics Processing Unit) and enhanced machine learning libraries, Gradient descent has become an intergral part of many machine learning and deep learning processes, especially those associated with Neural Networks.  \n",
        "\n",
        "We will begin by defining what Gradient Descent is, why it is useful and how it is used in practice.  We will illustrate this with a simple example.  This example if from the fastai course and book *Deep Learning for Coders with fastai and PyTorch*"
      ]
    },
    {
      "cell_type": "markdown",
      "metadata": {
        "id": "WAfndhQZVAdv"
      },
      "source": [
        "## What is Gradient Descent?\n",
        "\n",
        "Let's start by defining what a gradient.  If you remember back to high school calculus, a derivative of a function calculates the rate of change of a function at a specific point (rise / run).  It tells you how much the output changes if you change the inputs a tiny bit.\n",
        "\n",
        "Well, when you have a bunch of variables in an equation, you will need to know how much the output changes if you change each of these variables a tiny bit.  This is done by calculating the partial derivatives with respect to each of the variables.  And the gradient is the vector which basically stores all of this information.\n",
        "\n",
        "Gradient Descent is simply the algorithm that uses this information to update a model's parameters a little at a time improving its' predictive ability."
      ]
    },
    {
      "cell_type": "markdown",
      "metadata": {
        "id": "aW21I35BZ3DP"
      },
      "source": [
        "## A Simple Example\n",
        "\n",
        "Let's look at an example of the fictional equation of the speed of a roller coaster going over a hill for a period of time, 20.  Using PyTorch's `arange` method we can create a sequence from 0-19 for this example."
      ]
    },
    {
      "cell_type": "code",
      "metadata": {
        "colab": {
          "base_uri": "https://localhost:8080/"
        },
        "id": "cblj0RDxvDXO",
        "outputId": "83f01e5d-555a-4f8a-a29c-7f0b76c97f10"
      },
      "source": [
        "time = torch.arange(0, 20).float()\n",
        "time"
      ],
      "execution_count": 41,
      "outputs": [
        {
          "output_type": "execute_result",
          "data": {
            "text/plain": [
              "tensor([ 0.,  1.,  2.,  3.,  4.,  5.,  6.,  7.,  8.,  9., 10., 11., 12., 13., 14., 15., 16., 17., 18., 19.])"
            ]
          },
          "metadata": {
            "tags": []
          },
          "execution_count": 41
        }
      ]
    },
    {
      "cell_type": "markdown",
      "metadata": {
        "id": "0ATzehWMbX6R"
      },
      "source": [
        "We will then simply create a random function which has the speed decreasing to 0 at the midpoint and increasing again after.  We will also add some random noise using `randn`.  And we will graph what the function looks like."
      ]
    },
    {
      "cell_type": "code",
      "metadata": {
        "colab": {
          "base_uri": "https://localhost:8080/",
          "height": 265
        },
        "id": "1V3UIaVHvQDn",
        "outputId": "71d35de3-97f0-4bb6-8019-ba41c66a9c87"
      },
      "source": [
        "speed = torch.randn(20)*2 + 0.6*(time-9.5)**2 + 1 \n",
        "plt.scatter(time, speed);"
      ],
      "execution_count": 42,
      "outputs": [
        {
          "output_type": "display_data",
          "data": {
            "image/png": "[encoded data removed]",
            "text/plain": [
              "<Figure size 432x288 with 1 Axes>"
            ]
          },
          "metadata": {
            "tags": [],
            "needs_background": "light"
          }
        }
      ]
    },
    {
      "cell_type": "markdown",
      "metadata": {
        "id": "fGFChMagcErx"
      },
      "source": [
        "Next, we will estimate that the function is a quadratic is the form\n",
        "$ a t^2 + bt + c$ and will look to solve for a, b, c.  Let's define the function."
      ]
    },
    {
      "cell_type": "code",
      "metadata": {
        "id": "5T6ZvyGSvfE1"
      },
      "source": [
        "def f(t, params):\n",
        "    a, b, c = params\n",
        "    return a*(t**2) + (b*t) + c"
      ],
      "execution_count": 43,
      "outputs": []
    },
    {
      "cell_type": "markdown",
      "metadata": {
        "id": "I86Y4QPmc0qw"
      },
      "source": [
        "How will we know if our estimated paramters are good or not?  We need to create a loss function that calculates the error rate of our predictions against the actual data.  In our case, we will use a simple Mean Squared Error loss function.  To calculate this, we simply:  \n",
        "\n",
        "1) Calculate the difference between our predictions and our target values  \n",
        "2) Square the difference  \n",
        "3) Take a mean of the Squared differences.  \n",
        "\n",
        "This is the loss function that we will use Gradient Descent to minimize."
      ]
    },
    {
      "cell_type": "code",
      "metadata": {
        "id": "pT9MJwN2wk6Q"
      },
      "source": [
        "def mse(preds, target):\n",
        "    return ((preds - target)**2).mean()"
      ],
      "execution_count": 44,
      "outputs": []
    },
    {
      "cell_type": "markdown",
      "metadata": {
        "id": "j_u2HQZTw47U"
      },
      "source": [
        "### Seven-Step Process"
      ]
    },
    {
      "cell_type": "markdown",
      "metadata": {
        "id": "NR5W2insdwqn"
      },
      "source": [
        "Now, we begin the process of Gradient Descent, which involves seven-steps.  \n",
        "\n",
        "1) Initialize the parameters  \n",
        "2) Calculate the predictions  \n",
        "3) Calculate the loss  \n",
        "4) Calculate the gradients  \n",
        "5) Step the weights  \n",
        "6) Repeat steps 2) through 5)  \n",
        "7) Stop the process  "
      ]
    },
    {
      "cell_type": "markdown",
      "metadata": {
        "id": "NBRrzhGJfqt3"
      },
      "source": [
        "#### Step 1: Initialize the Parameters\n",
        "\n",
        "We begin by setting the initial values for our parameters.  We will do so in a simple random manner utilizing `randn` again.\n",
        "\n",
        "We will also add the method `.requires_grad_()`.  This tells PyTorch that remember the necessary information so that we can later calculate the gradients with respect to these parameters."
      ]
    },
    {
      "cell_type": "code",
      "metadata": {
        "id": "9fMjzUtsw7zz"
      },
      "source": [
        "params = torch.randn(3).requires_grad_()"
      ],
      "execution_count": 45,
      "outputs": []
    },
    {
      "cell_type": "markdown",
      "metadata": {
        "id": "80pHdyyCgX9N"
      },
      "source": [
        "#### Step 2: Calculate the Predictions\n",
        "\n",
        "In this step, we will calculate the predictions based on our current parameter estimates.  We will also write a quick function to view our targets results along with our current estimates."
      ]
    },
    {
      "cell_type": "code",
      "metadata": {
        "id": "vWd9XP07ES5S"
      },
      "source": [
        "preds = f(time, params)"
      ],
      "execution_count": 46,
      "outputs": []
    },
    {
      "cell_type": "code",
      "metadata": {
        "colab": {
          "base_uri": "https://localhost:8080/",
          "height": 269
        },
        "id": "5ODL4vZMEaro",
        "outputId": "ffa50219-3628-4ee1-9fc5-0c5a66f87cc5"
      },
      "source": [
        "def show_preds(preds, ax=None):\n",
        "    if ax is None: ax=plt.subplots()[1]\n",
        "    ax.scatter(time, speed)\n",
        "    ax.scatter(time, to_np(preds), color='red')  # to_np() converts a tensor to an array\n",
        "    ax.set_ylim(-300, 100)\n",
        "\n",
        "show_preds(preds)"
      ],
      "execution_count": 47,
      "outputs": [
        {
          "output_type": "display_data",
          "data": {
            "image/png": "[encoded data removed]",
            "text/plain": [
              "<Figure size 432x288 with 1 Axes>"
            ]
          },
          "metadata": {
            "tags": [],
            "needs_background": "light"
          }
        }
      ]
    },
    {
      "cell_type": "markdown",
      "metadata": {
        "id": "fBHqilKIg9eF"
      },
      "source": [
        "These predictions look pretty terrible.  But hopefully, our Gradient Descent algorithm will help improve these results"
      ]
    },
    {
      "cell_type": "markdown",
      "metadata": {
        "id": "ulJ7wJirhULd"
      },
      "source": [
        "#### Step 3: Calculate the loss\n",
        "\n",
        "In this step, we will simply calcualte the loss using our `mse` function that we previously created.  As you can see from the output, the information for the gradient is also created along with the result."
      ]
    },
    {
      "cell_type": "code",
      "metadata": {
        "colab": {
          "base_uri": "https://localhost:8080/"
        },
        "id": "dfDrRiiJEy7D",
        "outputId": "3d0e642c-f99d-4a11-c72e-32b7e2555a06"
      },
      "source": [
        "loss = mse(preds, speed)\n",
        "loss"
      ],
      "execution_count": 48,
      "outputs": [
        {
          "output_type": "execute_result",
          "data": {
            "text/plain": [
              "tensor(4406.9209, grad_fn=<MeanBackward0>)"
            ]
          },
          "metadata": {
            "tags": []
          },
          "execution_count": 48
        }
      ]
    },
    {
      "cell_type": "markdown",
      "metadata": {
        "id": "vDXJxB_3h50T"
      },
      "source": [
        "#### Step 4: Calculate the gradients\n",
        "\n",
        "In this step, we will calculate the gradients.  And thankfully, we won't have to do this calcuation manually, PyTorch does this all on its' own.  And as you can see from the results, it returns the gradient for each of our parameters."
      ]
    },
    {
      "cell_type": "code",
      "metadata": {
        "colab": {
          "base_uri": "https://localhost:8080/"
        },
        "id": "ioG75n5uFURg",
        "outputId": "0b31cba1-8ef1-4e6b-8066-ecbb9d1ca7bb"
      },
      "source": [
        "loss.backward()\n",
        "params.grad"
      ],
      "execution_count": 49,
      "outputs": [
        {
          "output_type": "execute_result",
          "data": {
            "text/plain": [
              "tensor([-21275.2949,  -1369.6201,   -108.7108])"
            ]
          },
          "metadata": {
            "tags": []
          },
          "execution_count": 49
        }
      ]
    },
    {
      "cell_type": "markdown",
      "metadata": {
        "id": "6JG2YGlkiWUj"
      },
      "source": [
        "#### Step 5: Step the parameters\n",
        "\n",
        "Here, we will update the parameters of our model, but how?  From the last step we know how much our loss function will change as we change our parameters, but how much should we adjust them by?  If we adjust our parameters too fast, we run the risk of overshooting our optimal solution and simply bouncing back and forth and never converging to an answer.  If we adjust our parameters too slowly, it will take a long time to converge to an optimal solution.  Additionally, we may be fooled if there are local minimums in the function and if we see the loss going back up, we may interpret that as an incorrect global minimum.  \n",
        "\n",
        "The number that we use as a scalar of the gradients is called the **learning rate**.  There is no answer as to what the correct learning rate is, this can be a tunable parameter in the model, where we can try a few different rates and choose the best performing one.  For this purpose, we will use 1e-5 as our learning rate.\n",
        "\n",
        "Another step with we need to do after adjusting the parameters is to zero-out the gradients for our next iteration, as PyTorch we simply add any calculated gradients to the existing ones."
      ]
    },
    {
      "cell_type": "code",
      "metadata": {
        "id": "KtFxK0PvFpOe"
      },
      "source": [
        "lr = 1e-5\n",
        "params.data -= lr * params.grad.data\n",
        "params.grad = None"
      ],
      "execution_count": 50,
      "outputs": []
    },
    {
      "cell_type": "markdown",
      "metadata": {
        "id": "HIBEVGFIlMHa"
      },
      "source": [
        "#### Step 6: Repeat the process\n",
        "\n",
        "Here, we will go back to step #2 and #3.  We will make the predictions with our new parameters and calculate the loss and visualize our new predictions."
      ]
    },
    {
      "cell_type": "code",
      "metadata": {
        "colab": {
          "base_uri": "https://localhost:8080/"
        },
        "id": "HsookXnmF5C2",
        "outputId": "b978c03d-513f-4f38-8590-c6c65ae860c0"
      },
      "source": [
        "preds = f(time, params)\n",
        "mse(preds, speed)"
      ],
      "execution_count": 51,
      "outputs": [
        {
          "output_type": "execute_result",
          "data": {
            "text/plain": [
              "tensor(1145.6825, grad_fn=<MeanBackward0>)"
            ]
          },
          "metadata": {
            "tags": []
          },
          "execution_count": 51
        }
      ]
    },
    {
      "cell_type": "code",
      "metadata": {
        "colab": {
          "base_uri": "https://localhost:8080/",
          "height": 269
        },
        "id": "DImhSVRPGqLe",
        "outputId": "5fa938d3-d75b-44e9-ddb9-c83bb3484b85"
      },
      "source": [
        "show_preds(preds)"
      ],
      "execution_count": 52,
      "outputs": [
        {
          "output_type": "display_data",
          "data": {
            "image/png": "[encoded data removed]",
            "text/plain": [
              "<Figure size 432x288 with 1 Axes>"
            ]
          },
          "metadata": {
            "tags": [],
            "needs_background": "light"
          }
        }
      ]
    },
    {
      "cell_type": "markdown",
      "metadata": {
        "id": "cL4yZ85Nlj4i"
      },
      "source": [
        "We've improved our Mean Squared Error from 4,406 to 1,145. Not too bad, for only updating the parameters once.  Let's write a function including everything we've done so far, so we can repeat the process a few more times."
      ]
    },
    {
      "cell_type": "code",
      "metadata": {
        "id": "PZBIWWnVGtSP"
      },
      "source": [
        "def apply_step(params, prn=True):\n",
        "    preds = f(time, params)\n",
        "    loss = mse(preds, speed)\n",
        "    loss.backward()\n",
        "    params.data -= lr * params.grad.data\n",
        "    params.grad = None\n",
        "    if prn: print(loss.item())\n",
        "    return preds"
      ],
      "execution_count": 53,
      "outputs": []
    },
    {
      "cell_type": "code",
      "metadata": {
        "colab": {
          "base_uri": "https://localhost:8080/"
        },
        "id": "4HNmq45XHKv6",
        "outputId": "ca8cd1b3-b297-49d0-b7d3-98b14fc91ef2"
      },
      "source": [
        "for i in range(10):\n",
        "    apply_step(params)"
      ],
      "execution_count": 54,
      "outputs": [
        {
          "output_type": "stream",
          "text": [
            "1145.6824951171875\n",
            "528.5543212890625\n",
            "411.7728576660156\n",
            "389.67218017578125\n",
            "385.4880065917969\n",
            "384.6941833496094\n",
            "384.54205322265625\n",
            "384.5111999511719\n",
            "384.50335693359375\n",
            "384.499755859375\n"
          ],
          "name": "stdout"
        }
      ]
    },
    {
      "cell_type": "markdown",
      "metadata": {
        "id": "7Q6Pjco3m5yS"
      },
      "source": [
        "#### Step 7: Stop the process\n",
        "\n",
        "We have decided to stop after an additional 10 epochs arbitrarily.  In practice, we would likely watch the loss function and our metrics to decide when to step.  But here we have seen our Mean Squared Error be reduced from 4,406 to 385, in only 6 epochs.\n"
      ]
    },
    {
      "cell_type": "markdown",
      "metadata": {
        "id": "TjUATyj9n6UB"
      },
      "source": [
        "## Summary\n",
        "\n",
        "From this simple example, I think you can begin to see the power of using the Gradient Descent algorithm to update model paramters to improve performance."
      ]
    },
    {
      "cell_type": "code",
      "metadata": {
        "id": "wAf5EXfToqtn"
      },
      "source": [
        ""
      ],
      "execution_count": null,
      "outputs": []
    }
  ]
}